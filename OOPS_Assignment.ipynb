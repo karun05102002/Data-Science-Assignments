{
 "cells": [
  {
   "cell_type": "code",
   "execution_count": null,
   "id": "1154e462-e27a-4a5c-9b11-cfc19fdf0671",
   "metadata": {},
   "outputs": [],
   "source": [
    "Q1. What is Abstraction in OOps? Explain with an example."
   ]
  },
  {
   "cell_type": "code",
   "execution_count": null,
   "id": "878d5c8d-ef0b-4f16-99e2-d4fa2f8bb9da",
   "metadata": {},
   "outputs": [],
   "source": [
    "Ans1. Abstraction is used to hide the internal functionality of the function from the users.\n",
    "    The users only interact with the basic implementation of the function, but inner working is hidden.\n",
    "    User is familiar with that \"what function does\" but they don't know \"how it does.\"\n",
    "    \n",
    "    When we use the TV remote to increase the volume. We don't know how pressing a key increases the volume of the TV. \n",
    "    We only know to press the \"+\" button to increase the volume."
   ]
  }
 ],
 "metadata": {
  "kernelspec": {
   "display_name": "Python 3 (ipykernel)",
   "language": "python",
   "name": "python3"
  },
  "language_info": {
   "codemirror_mode": {
    "name": "ipython",
    "version": 3
   },
   "file_extension": ".py",
   "mimetype": "text/x-python",
   "name": "python",
   "nbconvert_exporter": "python",
   "pygments_lexer": "ipython3",
   "version": "3.10.6"
  }
 },
 "nbformat": 4,
 "nbformat_minor": 5
}
