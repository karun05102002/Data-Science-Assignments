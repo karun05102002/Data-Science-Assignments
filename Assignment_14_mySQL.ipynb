{
 "cells": [
  {
   "cell_type": "code",
   "execution_count": null,
   "id": "1a480b3a",
   "metadata": {},
   "outputs": [],
   "source": [
    "Q1. What is a database? Differentiate between SQL and NoSQL databases."
   ]
  },
  {
   "cell_type": "code",
   "execution_count": null,
   "id": "ef32d451",
   "metadata": {},
   "outputs": [],
   "source": [
    "Ans  A database is an organized collection of structured information, or data, typically stored electronically in \n",
    "     a computer system. A database is usually controlled by a database management system (DBMS).\n",
    "\n",
    "SQL or the Structured Query Language is the most common and popular programming language for the relational database management \n",
    "system. It is a language designed to extract, store, insert, delete, update and manage data for structured data and strategic \n",
    "analysis. \n",
    "\n",
    "NoSQL database provides a mechanism for storage and retrieval of data that is modelled other than tabular form.\n",
    "It was introduced by Carl Stroz in the year 1998 called a Non-relational database. Now, it stands for Not only SQL. \n",
    "It is not limited to storing data in tables, instead, enables the big data to be stored in the structured, unstructured, \n",
    "semi-structured or polymorphic form. "
   ]
  },
  {
   "cell_type": "code",
   "execution_count": null,
   "id": "177f35ee",
   "metadata": {},
   "outputs": [],
   "source": [
    "Q2. What is DDL? Explain why CREATE, DROP, ALTER, and TRUNCATE are used with an example."
   ]
  },
  {
   "cell_type": "code",
   "execution_count": null,
   "id": "1fb9286c",
   "metadata": {},
   "outputs": [],
   "source": [
    "Ans\n",
    "Data Definition Language (DDL) is a subset of SQL. It is a language for describing data and its relationships in a database. \n",
    "You can generate DDL in a script for database objects to: Keep a snapshot of the database structure.\n",
    "    "
   ]
  },
  {
   "cell_type": "code",
   "execution_count": 3,
   "id": "9c2882e3",
   "metadata": {},
   "outputs": [],
   "source": [
    "# CREATE DATABASE\n",
    "# CREATE DATABASE create the new database if it is not exists\n",
    "\n",
    "import mysql.connector\n",
    "mydb = mysql.connector.connect(\n",
    "  host=\"localhost\",\n",
    "  user=\"abc\",\n",
    "  password=\"password\"\n",
    ")\n",
    "mycursor = mydb.cursor()\n",
    "mycursor.execute(\"CREATE DATABASE if not exists test2\")\n",
    "mydb.close()"
   ]
  },
  {
   "cell_type": "code",
   "execution_count": null,
   "id": "416a25d0",
   "metadata": {},
   "outputs": [],
   "source": [
    "# CREATE TABLE\n",
    "# The CREATE TABLE command creates a new table in the database.\n",
    "import mysql.connector\n",
    "mydb = mysql.connector.connect(\n",
    "  host=\"localhost\",\n",
    "  user=\"abc\",\n",
    "  password=\"password\"\n",
    ")\n",
    "mycursor = mydb.cursor()\n",
    "mycursor.execute(\"CREATE TABLE test2.Persons ( PersonID int, LastName varchar(255),FirstName varchar(255),Address varchar(255),City varchar(255))\")\n",
    "mydb.close()"
   ]
  },
  {
   "cell_type": "code",
   "execution_count": null,
   "id": "d0fab83c",
   "metadata": {},
   "outputs": [],
   "source": [
    "# ALTER TABLE\n",
    "\n",
    "# The ALTER TABLE command adds, deletes, or modifies columns in a table.\n",
    "# The ALTER TABLE command also adds and deletes various constraints in a table.\n",
    "# The following SQL adds an \"Email\" column to the \"Persons\" table:\n",
    "import mysql.connector\n",
    "mydb = mysql.connector.connect(\n",
    "  host=\"localhost\",\n",
    "  user=\"abc\",\n",
    "  password=\"password\"\n",
    ")\n",
    "mycursor = mydb.cursor()\n",
    "# ADD COLUMN\n",
    "mycursor.execute(\"ALTER TABLE test2.Persons ADD Email varchar(255)\")\n",
    "\n",
    "# DROP COLUMN\n",
    "mycursor.execute(\"ALTER TABLE test2.Persons DROP COLUMN Email\")\n",
    "mydb.close()"
   ]
  },
  {
   "cell_type": "code",
   "execution_count": null,
   "id": "2d861c27",
   "metadata": {},
   "outputs": [],
   "source": [
    "# DROP TABLE\n",
    "# The DROP TABLE command deletes a table in the database.\n",
    "# The following SQL deletes the table \"Persons\":\n",
    "import mysql.connector\n",
    "mydb = mysql.connector.connect(\n",
    "  host=\"localhost\",\n",
    "  user=\"abc\",\n",
    "  password=\"password\"\n",
    ")\n",
    "mycursor = mydb.cursor()\n",
    "mycursor.execute(\"DROP TABLE .test2.Persons \")\n",
    "mydb.close()"
   ]
  },
  {
   "cell_type": "code",
   "execution_count": null,
   "id": "9458a330",
   "metadata": {},
   "outputs": [],
   "source": [
    "# TRUNCATE TABLE\n",
    "# The TRUNCATE TABLE command deletes the data inside a table, but not the table itself.\n",
    "# The following SQL truncates the table \"Categories\": \n",
    "import mysql.connector\n",
    "mydb = mysql.connector.connect(\n",
    "  host=\"localhost\",\n",
    "  user=\"abc\",\n",
    "  password=\"password\"\n",
    ")\n",
    "mycursor = mydb.cursor()\n",
    "mycursor.execute(\"TRUNCATE TABLE test2.Persons\")\n",
    "mydb.close()"
   ]
  },
  {
   "cell_type": "code",
   "execution_count": null,
   "id": "c0a25f62",
   "metadata": {},
   "outputs": [],
   "source": [
    "Q3. What is DML? Explain INSERT, UPDATE, and DELETE with an example."
   ]
  },
  {
   "cell_type": "code",
   "execution_count": null,
   "id": "8cd90ea5",
   "metadata": {},
   "outputs": [],
   "source": [
    "Ans.\n",
    "Data Manipulation Language\n",
    "We can easily access, store, change, update and remove existing folders from the database using DML commands.\n",
    " "
   ]
  },
  {
   "cell_type": "code",
   "execution_count": null,
   "id": "d4e032bf",
   "metadata": {},
   "outputs": [],
   "source": [
    "# INSERT\n",
    "# The INSERT INTO statement is used to insert new records in a table.\n",
    "# It is possible to write the INSERT INTO statement in two ways.\n",
    "\n",
    "# If you are adding values for all the columns of the table, then no need to specify the column names in the SQL query. \n",
    "# However, make sure that the order of the values is in the same order as the columns in the table.\n",
    "\n",
    "# Insert value in a 1st way. The column names are used here\n",
    "\n",
    "# INSERT INTO test2.persons (EmpId,LastName,FirstName,ADDRESS,City)VALUES (1, 'XYZ', 'ABC', 'India', 'Mumbai' ); \n",
    "# INSERT INTO test2.Persons (EmpId,LastName,FirstName,ADDRESS,City)VALUES (2, 'X', 'A', 'India', 'Pune' );\n",
    "\n",
    "\n",
    "# Insert value in a 2nd way.\n",
    "\n",
    "# INSERT INTO test2.Persons VALUES (3, 'XYZ', 'ABC', 'India', 'Mumbai' );\n",
    "\n",
    "import mysql.connector\n",
    "mydb = mysql.connector.connect(\n",
    "  host=\"localhost\",\n",
    "  user=\"abc\",\n",
    "  password=\"password\"\n",
    ")\n",
    "mycursor = mydb.cursor()\n",
    "mycursor.execute(\"insert into test2.Persons  values(1, 'verma', 'karun', 'meerut up', 'Mumbai' )\")\n",
    "# select EmpId, LastName from test2.Persons;  \n",
    "# mycursor.execute(\"select * from test2.Persons\")\n",
    "# for i in mycursor.fetchall(): \n",
    "#     print(i)\n",
    "mydb.commit()\n",
    "mydb.close()"
   ]
  },
  {
   "cell_type": "code",
   "execution_count": null,
   "id": "f9e3e893",
   "metadata": {},
   "outputs": [],
   "source": [
    "# UPDATE tables\n",
    "\n",
    "# The UPDATE statement is used to modify the existing records in a table.\n",
    "\n",
    "# UPDATE test2.Persons SET FirstName= 'KS', City= 'Pune' WHERE EmpId= 1;  \n",
    "\n",
    "import mysql.connector\n",
    "mydb = mysql.connector.connect(\n",
    "  host=\"localhost\",\n",
    "  user=\"abc\",\n",
    "  password=\"password\"\n",
    ")\n",
    "mycursor = mydb.cursor()\n",
    "mycursor.execute(\"UPDATE test2.Persons SET FirstName= 'KS', City= 'Pune' WHERE PersonsId= 1 \")\n",
    "mydb.commit()\n",
    "mydb.close()"
   ]
  },
  {
   "cell_type": "code",
   "execution_count": null,
   "id": "e40172ab",
   "metadata": {},
   "outputs": [],
   "source": [
    "# DELETE\n",
    "# The DELETE statement is used to delete existing records in a table for a particular Record.\n",
    "\n",
    "# DELETE FROM test2.Persons WHERE EmpId=1; \n",
    "\n",
    "import mysql.connector\n",
    "mydb = mysql.connector.connect(\n",
    "  host=\"localhost\",\n",
    "  user=\"abc\",\n",
    "  password=\"password\"\n",
    ")\n",
    "mycursor = mydb.cursor()\n",
    "mycursor.execute(\" DELETE FROM test2.Persons WHERE PersonId=1 \")\n",
    "mydb.close()"
   ]
  },
  {
   "cell_type": "code",
   "execution_count": null,
   "id": "41cad825",
   "metadata": {},
   "outputs": [],
   "source": [
    "Q4. What is DQL? Explain SELECT with an example.\n"
   ]
  },
  {
   "cell_type": "code",
   "execution_count": null,
   "id": "04e68a3a",
   "metadata": {},
   "outputs": [],
   "source": [
    "Ans\n",
    "    The full form of DQL is Data Query Language. DQL is a part of the grouping involved in SQL (Structures Query Language) \n",
    "    sub-languages.\n",
    "    The SQL sub languages have four major categories, DQL, DDL, DCL, and DML.\n",
    "    \n",
    "    DQL statements are used for performing queries on the data within schema objects. \n",
    "    The purpose of the DQL Command is to get some schema relation based on the query passed to it. \n",
    "    We can define DQL as follows it is a component of SQL statement that allows getting data from the database and \n",
    "    imposing order upon it."
   ]
  },
  {
   "cell_type": "code",
   "execution_count": null,
   "id": "1fa7dae5",
   "metadata": {},
   "outputs": [],
   "source": [
    " SELECT\n",
    "    # An SQL SELECT statement retrieves records from a database table according to clauses (for example, FROM and WHERE ) that specify criteria. \n",
    "    The syntax is:\n",
    "        SELECT EmpId, LastName from test2.Persons;\n",
    "        \n",
    "        SELECT * test2.Persons; \n",
    "        \n",
    "        SELECT * FROM Employee_Order ORDER BY Emp_Salary DESC;  "
   ]
  },
  {
   "cell_type": "code",
   "execution_count": null,
   "id": "70a69e48",
   "metadata": {},
   "outputs": [],
   "source": [
    "Q5. Explain Primary Key and Foreign Key.\n",
    "\n",
    "Ans. A primary key is used to ensure data in the specific column is unique.\n",
    "\n",
    "     A foreign key is a column or group of columns in a relational database table that provides a link between data in two tables. "
   ]
  },
  {
   "cell_type": "code",
   "execution_count": null,
   "id": "7fa0ce01",
   "metadata": {},
   "outputs": [],
   "source": [
    "Q6. Write a python code to connect MySQL to python. Explain the cursor() and execute() method."
   ]
  },
  {
   "cell_type": "code",
   "execution_count": null,
   "id": "9012b9d5",
   "metadata": {},
   "outputs": [],
   "source": [
    "# Ans\n",
    "import mysql.connector\n",
    "mydb = mysql.connector.connect(\n",
    "  host=\"localhost\",\n",
    "  user=\"abc\",\n",
    "  password=\"password\"\n",
    ")\n",
    "mycursor = mydb.cursor()\n",
    "mycursor.execute(\"CREATE DATABASE if not exists test2\")\n",
    "mydb.close()"
   ]
  },
  {
   "cell_type": "code",
   "execution_count": null,
   "id": "001da891",
   "metadata": {},
   "outputs": [],
   "source": [
    "curser()\n",
    " In SQL procedures, a cursor make it possible to define a result set (a set of data rows)and perform complex logic on arow\n",
    " by row basis. By using the same mechanics, an SQL procedure can also define a result set and return it directly to the caller \n",
    " of the SQL procedure or to a client application.\n",
    "    \n",
    "execute()\n",
    " The Execute method executes a specified query, SQL statement, stored procedure, or provider-specific text. \n",
    " The results are stored in a new Recordset object if it is a row-returning query. A closed Recordset object will \n",
    " be returned if it is not a row-returning query."
   ]
  },
  {
   "cell_type": "code",
   "execution_count": null,
   "id": "f6f4455e",
   "metadata": {},
   "outputs": [],
   "source": [
    "Q7. Give the order of execution of SQL clauses in an SQL query.\n",
    "\n",
    "Ans\n",
    "\n",
    "    FROM clause.\n",
    "    ON clause.\n",
    "    OUTER clause.\n",
    "    WHERE clause.\n",
    "    GROUP BY clause.\n",
    "    HAVING clause.\n",
    "    SELECT clause.\n",
    "    DISTINCT clause."
   ]
  }
 ],
 "metadata": {
  "kernelspec": {
   "display_name": "Python 3 (ipykernel)",
   "language": "python",
   "name": "python3"
  },
  "language_info": {
   "codemirror_mode": {
    "name": "ipython",
    "version": 3
   },
   "file_extension": ".py",
   "mimetype": "text/x-python",
   "name": "python",
   "nbconvert_exporter": "python",
   "pygments_lexer": "ipython3",
   "version": "3.9.13"
  }
 },
 "nbformat": 4,
 "nbformat_minor": 5
}
