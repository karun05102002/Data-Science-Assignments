{
 "cells": [
  {
   "cell_type": "code",
   "execution_count": 21,
   "id": "d0a1119e-86c2-47c3-9b06-002db4a7e75c",
   "metadata": {},
   "outputs": [],
   "source": [
    "# Q1. Which keyword is used to create a function? Create a function to return a list of odd numbers in the\n",
    "#     range of 1 to 25.\n",
    "def oddlst():\n",
    "    a=[]\n",
    "    for i in range(1,25):\n",
    "        if i%2 != 0:\n",
    "            a.append(i)\n",
    "        else:\n",
    "            pass\n",
    "    print(a)\n",
    "        "
   ]
  },
  {
   "cell_type": "code",
   "execution_count": 22,
   "id": "fbf064fb-3bf8-4d04-9269-2fab104b08bf",
   "metadata": {},
   "outputs": [
    {
     "name": "stdout",
     "output_type": "stream",
     "text": [
      "[1, 3, 5, 7, 9, 11, 13, 15, 17, 19, 21, 23]\n"
     ]
    }
   ],
   "source": [
    "oddlst()"
   ]
  },
  {
   "cell_type": "code",
   "execution_count": 27,
   "id": "d2792c01-4b24-44d7-aa51-36048f7cfd17",
   "metadata": {},
   "outputs": [
    {
     "name": "stdout",
     "output_type": "stream",
     "text": [
      "i am *args function and my function result is = 3\n",
      "i am *args function and my function result is = 5\n"
     ]
    }
   ],
   "source": [
    "# Q2. Why *args and **kwargs is used in some functions? Create a function each for *args and **kwargs\n",
    "#     to demonstrate their use.\n",
    "# Ans “We use the “wildcard” or “*” notation likethis – *args OR\n",
    "#     c**kwargs – as our function’s argument when we have doubts\n",
    "#     about the number of  arguments we should pass in a function.” \n",
    "def sum(*add):\n",
    "    addition=add[0]+add[1]\n",
    "    return addition\n",
    "a=sum(1,2,3,4)\n",
    "print(\"i am *args function and my function result is =\",a)\n",
    "\n",
    "def sum(**add):\n",
    "    addition=add['a']+add['d']\n",
    "    return addition\n",
    "a=sum(a=1,b=2,c=3,d=4)\n",
    "print(\"i am *args function and my function result is =\",a)"
   ]
  },
  {
   "cell_type": "code",
   "execution_count": 28,
   "id": "223cd97d-5507-4a82-97ba-b94c30ed272e",
   "metadata": {},
   "outputs": [
    {
     "name": "stdout",
     "output_type": "stream",
     "text": [
      "2\n",
      "3\n",
      "6\n",
      "8\n",
      "10\n"
     ]
    }
   ],
   "source": [
    "# Q3. What is an iterator in python? Name the method used to initialise the iterator object and the method\n",
    "#     used for iteration. Use these methods to print the first five elements of the given list [2, 4, 6, 8, 10, 12, 14,\n",
    "#     16, 18, 20].\n",
    "# Ans Iterators are methods that iterate collections like lists, tuples, etc.\n",
    "#     Using an iterator method, we can loop through an object and return its elements.\n",
    "#     Technically, a Python iterator object must implement two special methods, __iter__() and __next__(), collectively called the iterator protocol.\n",
    "# define a list\n",
    "my_list = [2,3,6,8,10,12,14]\n",
    "\n",
    "# create an iterator from the list\n",
    "iterator = iter(my_list)\n",
    "\n",
    "# get the first element of the iterator\n",
    "print(next(iterator))  # prints 4\n",
    "\n",
    "# get the second element of the iterator\n",
    "print(next(iterator))  # prints 7\n",
    "\n",
    "# get the third element of the iterator\n",
    "print(next(iterator)) \n",
    "\n",
    "# get the fourth element of the iterator\n",
    "print(next(iterator)) \n",
    "\n",
    "# get the fifth element of the iterator\n",
    "print(next(iterator)) # prints 0"
   ]
  },
  {
   "cell_type": "code",
   "execution_count": 29,
   "id": "1257f0e6-4047-4e86-8147-cac7b4a1a771",
   "metadata": {},
   "outputs": [
    {
     "name": "stdout",
     "output_type": "stream",
     "text": [
      "0\n",
      "1\n",
      "2\n"
     ]
    }
   ],
   "source": [
    "# Q4. What is a generator function in python? Why yield keyword is used? Give an example of a generator\n",
    "#    function.\n",
    "# Ans a generator is a function that returns an iterator that produces a sequence of values when iterated over.\n",
    "#   Generators are useful when we want to produce a large sequence of values,\n",
    "#   but we don't want to store all of them in memory at once.    \n",
    "# The yield keyword is used to produce a value from the generator and pause the generator function's execution until the next value is requested.\n",
    "\n",
    "def my_generator(n):\n",
    "\n",
    "    # initialize counter\n",
    "    value = 0\n",
    "\n",
    "    # loop until counter is less than n\n",
    "    while value < n:\n",
    "\n",
    "        # produce the current value of the counter\n",
    "        yield value\n",
    "\n",
    "        # increment the counter\n",
    "        value += 1\n",
    "\n",
    "# iterate over the generator object produced by my_generator\n",
    "for value in my_generator(3):\n",
    "\n",
    "    # print each value produced by generator\n",
    "    print(value)"
   ]
  },
  {
   "cell_type": "code",
   "execution_count": 13,
   "id": "aca4a304-1c5f-4b8f-9475-8042921ed1cd",
   "metadata": {},
   "outputs": [
    {
     "name": "stdout",
     "output_type": "stream",
     "text": [
      "0\n",
      "1\n",
      "1\n",
      "2\n",
      "3\n",
      "5\n",
      "8\n",
      "13\n",
      "21\n",
      "34\n",
      "55\n"
     ]
    }
   ],
   "source": [
    "# Q6-Write a python program to print the first 10 Fibonacci numbers using a while loop.\n",
    "a , b  = 0 , 1 \n",
    "i=0\n",
    "while i<=10:\n",
    "    print(a)\n",
    "    c=a+b\n",
    "    a=b\n",
    "    b=c\n",
    "    i=i+1\n",
    "\n",
    "\n",
    "\n"
   ]
  },
  {
   "cell_type": "code",
   "execution_count": 17,
   "id": "ccabe030-3e49-4be5-8b6f-36609de43dea",
   "metadata": {},
   "outputs": [
    {
     "data": {
      "text/plain": [
       "['p', 'w', 's', 'k', 'i', 'l', 'l', 's']"
      ]
     },
     "execution_count": 17,
     "metadata": {},
     "output_type": "execute_result"
    }
   ],
   "source": [
    "# Q7. Write a List Comprehension to iterate through the given string: ‘pwskills’.\n",
    "# Expected output: ['p', 'w', 's', 'k', 'i', 'l', 'l', 's']\n",
    "# Ans\n",
    "l='pwskills'\n",
    "[l[i] for i in range(len(l))]"
   ]
  },
  {
   "cell_type": "code",
   "execution_count": 18,
   "id": "68e6a113-7a62-4b57-941e-70601fcc1ffb",
   "metadata": {},
   "outputs": [
    {
     "name": "stdout",
     "output_type": "stream",
     "text": [
      "Palindrome\n"
     ]
    }
   ],
   "source": [
    "#Q8 Write a python program to check whether a given number is Palindrome or not using a while loop.\n",
    "num = 1221\n",
    "temp = num\n",
    "reverse = 0\n",
    "while temp > 0:\n",
    "    remainder = temp % 10\n",
    "    reverse = (reverse * 10) + remainder\n",
    "    temp = temp // 10\n",
    "if num == reverse:\n",
    "    print('Palindrome')\n",
    "else:\n",
    "    print(\"Not Palindrome\")"
   ]
  },
  {
   "cell_type": "code",
   "execution_count": 22,
   "id": "2e1a3c9a-db5c-48dd-8922-4dd89dc19a69",
   "metadata": {},
   "outputs": [
    {
     "data": {
      "text/plain": [
       "[0,\n",
       " 2,\n",
       " 4,\n",
       " 6,\n",
       " 8,\n",
       " 10,\n",
       " 12,\n",
       " 14,\n",
       " 16,\n",
       " 18,\n",
       " 20,\n",
       " 22,\n",
       " 24,\n",
       " 26,\n",
       " 28,\n",
       " 30,\n",
       " 32,\n",
       " 34,\n",
       " 36,\n",
       " 38,\n",
       " 40,\n",
       " 42,\n",
       " 44,\n",
       " 46,\n",
       " 48,\n",
       " 50,\n",
       " 52,\n",
       " 54,\n",
       " 56,\n",
       " 58,\n",
       " 60,\n",
       " 62,\n",
       " 64,\n",
       " 66,\n",
       " 68,\n",
       " 70,\n",
       " 72,\n",
       " 74,\n",
       " 76,\n",
       " 78,\n",
       " 80,\n",
       " 82,\n",
       " 84,\n",
       " 86,\n",
       " 88,\n",
       " 90,\n",
       " 92,\n",
       " 94,\n",
       " 96,\n",
       " 98]"
      ]
     },
     "execution_count": 22,
     "metadata": {},
     "output_type": "execute_result"
    }
   ],
   "source": [
    "# Q9. Write a code to print odd numbers from 1 to 100 using list comprehension.\n",
    "# Note: Use a list comprehension to create a list from 1 to 100 and use another List comprehension to filter\n",
    "# out odd numbers.\n",
    "a=[i for i in range(100)]\n",
    "[i for i in a if i%2 ==0]"
   ]
  },
  {
   "cell_type": "code",
   "execution_count": null,
   "id": "8cc94fd9-e19b-4272-b153-e35e8a8d6c53",
   "metadata": {},
   "outputs": [],
   "source": []
  },
  {
   "cell_type": "code",
   "execution_count": null,
   "id": "16d9d75c-06a6-4c71-a378-78e01c044384",
   "metadata": {},
   "outputs": [],
   "source": []
  }
 ],
 "metadata": {
  "kernelspec": {
   "display_name": "Python 3 (ipykernel)",
   "language": "python",
   "name": "python3"
  },
  "language_info": {
   "codemirror_mode": {
    "name": "ipython",
    "version": 3
   },
   "file_extension": ".py",
   "mimetype": "text/x-python",
   "name": "python",
   "nbconvert_exporter": "python",
   "pygments_lexer": "ipython3",
   "version": "3.10.8"
  }
 },
 "nbformat": 4,
 "nbformat_minor": 5
}
