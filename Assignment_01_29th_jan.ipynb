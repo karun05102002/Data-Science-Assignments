{
 "cells": [
  {
   "cell_type": "code",
   "execution_count": null,
   "id": "dc99dafe-e6ab-4098-8055-1be203e82511",
   "metadata": {},
   "outputs": [],
   "source": [
    "# Q1.Who developed python programing Language?\n",
    "# Ans. Guido van Rossum."
   ]
  },
  {
   "cell_type": "code",
   "execution_count": null,
   "id": "86e51fb2-a362-4d6d-b32d-be26d876c77a",
   "metadata": {},
   "outputs": [],
   "source": [
    "# Q2.which type of programing does python support?\n",
    "# Ans. multi-paradign."
   ]
  },
  {
   "cell_type": "code",
   "execution_count": null,
   "id": "124e252a-1799-4668-a04b-32bcabda8a35",
   "metadata": {},
   "outputs": [],
   "source": [
    "# Q3. Is python case sensitive when dealing with identifiers?\n",
    "# Ans. yes"
   ]
  },
  {
   "cell_type": "code",
   "execution_count": 3,
   "id": "b2a9bb95-9bd9-445f-aeca-8c916564db66",
   "metadata": {},
   "outputs": [
    {
     "name": "stdout",
     "output_type": "stream",
     "text": [
      "They are identifiers\n"
     ]
    }
   ],
   "source": [
    "a=\"Karun\" #identifier1\n",
    "b=\"karun\" #identifier2\n",
    "\n",
    "if a == b:\n",
    "    print(\"They are not case sensitive\")\n",
    "else:\n",
    "    print(\"They are identifiers\")\n"
   ]
  },
  {
   "cell_type": "code",
   "execution_count": null,
   "id": "8e916ce9-4d37-41fd-9c9b-2b6f300a50aa",
   "metadata": {},
   "outputs": [],
   "source": [
    "# Q4. what is the correct extention of python file?\n",
    "# Ans. .py"
   ]
  },
  {
   "cell_type": "code",
   "execution_count": null,
   "id": "43b3556a-bd09-43b2-996b-3e0e4e19e614",
   "metadata": {},
   "outputs": [],
   "source": [
    "# Q5. Is python code compiled or interpreted?\n",
    "# Ans. Interpreted."
   ]
  },
  {
   "cell_type": "code",
   "execution_count": null,
   "id": "2e05b168-b22e-4f03-8b5b-99855afc0675",
   "metadata": {},
   "outputs": [],
   "source": [
    "# Q6. Name a few blocks of code used to define in python language?\n",
    "# Ans. module, function body, class definition."
   ]
  },
  {
   "cell_type": "code",
   "execution_count": null,
   "id": "87a0d57d-d4b2-4545-9a7f-6aceb7a9b578",
   "metadata": {},
   "outputs": [],
   "source": [
    "# Q7. Sate a character used to give single -line comment in python?\n",
    "# An. ,##"
   ]
  },
  {
   "cell_type": "code",
   "execution_count": null,
   "id": "bf1aa822-2ae8-45f5-acf3-1f6023e1d367",
   "metadata": {},
   "outputs": [],
   "source": [
    "# Q8. Mention function which can help us to find the version of python that we are currently  working on?\n",
    "# Ans. python "
   ]
  },
  {
   "cell_type": "code",
   "execution_count": null,
   "id": "db036bb8-4925-4572-9f89-02cf4f6f626e",
   "metadata": {},
   "outputs": [],
   "source": [
    "# Q9.python supports the creation of anonymous functions at runtime, using a construct called?\n",
    "# Ans. lambda"
   ]
  },
  {
   "cell_type": "code",
   "execution_count": null,
   "id": "95febdb2-8c3b-4158-a5b4-a65ea50f4f40",
   "metadata": {},
   "outputs": [],
   "source": [
    "# Q10. What does pip stand for python?\n",
    "# Ans.preferred installer program."
   ]
  },
  {
   "cell_type": "code",
   "execution_count": null,
   "id": "fe0f2e44-dee5-4864-b695-1708d9bfab30",
   "metadata": {},
   "outputs": [],
   "source": [
    "# Q11. Mention a few built-in function in python?\n",
    "# Ans.print( ) ,type( ), input( ), abs( ), pow( ), dir( ),sorted( ), max( )."
   ]
  },
  {
   "cell_type": "code",
   "execution_count": null,
   "id": "5f488ff3-97a3-4ec2-bf80-e5758f12343c",
   "metadata": {},
   "outputs": [],
   "source": [
    "# Q12. What are the maximum possible length of the identifier in python?\n",
    "# Ans.Python identifiers are unlimited in length but as per PEP-8 limit identifier to a maximum of 79 character\n",
    "#     for better readability but there is no restriction."
   ]
  },
  {
   "cell_type": "code",
   "execution_count": null,
   "id": "b112e7b9-d40c-4a85-9046-cad4f4584c8f",
   "metadata": {},
   "outputs": [],
   "source": [
    "# Q13. What are the benifit of using python\n",
    "# Ans.1 Easy to Learn and Use\n",
    "#     2 Big data, Machine Learning and Cloud Computing."
   ]
  },
  {
   "cell_type": "code",
   "execution_count": null,
   "id": "4187c760-bfa3-4d86-980f-f4307321544c",
   "metadata": {},
   "outputs": [],
   "source": [
    "# Q14. How is memory managed in python?\n",
    "# Ans.Memory management in Python involves a private heap containing all Python objects and data structures.\n",
    "# The management of this private heap is ensured internally by the Python memory manager."
   ]
  },
  {
   "cell_type": "code",
   "execution_count": null,
   "id": "2fbfa2d5-ee5c-4803-9a6b-5ab93864871e",
   "metadata": {},
   "outputs": [],
   "source": [
    "# Q15.How to install python on window and set path variable?\n",
    "# Ans 1.Open a browser to the Python website and download the Windows installer.\n",
    "#     2.Double click on the downloaded file and install Python for all users, and ensure that Python is added to your path.\n",
    "#     3.After the installation is complete, click Disable path length limit and then Close.\n",
    "    \n",
    "#     In the section entitled User Variables, double-click on the entry that says Path. Another window will pop up showing a list of paths.\n",
    "#     Click the New button and paste the path to your Python executable there.Once that's inserted, select your newly added path and click\n",
    "#     the Move Up button until it's at the top"
   ]
  },
  {
   "cell_type": "code",
   "execution_count": null,
   "id": "12014359-2423-461a-8d61-2dfd628a22d3",
   "metadata": {},
   "outputs": [],
   "source": [
    "# Q16.Is indentation required in python/\n",
    "# Ans yes."
   ]
  }
 ],
 "metadata": {
  "kernelspec": {
   "display_name": "Python 3 (ipykernel)",
   "language": "python",
   "name": "python3"
  },
  "language_info": {
   "codemirror_mode": {
    "name": "ipython",
    "version": 3
   },
   "file_extension": ".py",
   "mimetype": "text/x-python",
   "name": "python",
   "nbconvert_exporter": "python",
   "pygments_lexer": "ipython3",
   "version": "3.10.8"
  }
 },
 "nbformat": 4,
 "nbformat_minor": 5
}
