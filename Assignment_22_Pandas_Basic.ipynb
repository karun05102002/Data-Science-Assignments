{
 "cells": [
  {
   "cell_type": "code",
   "execution_count": 1,
   "id": "1c705a8b-b2c6-447e-b152-705707b4004f",
   "metadata": {},
   "outputs": [
    {
     "ename": "SyntaxError",
     "evalue": "invalid syntax (3998113497.py, line 1)",
     "output_type": "error",
     "traceback": [
      "\u001b[0;36m  Cell \u001b[0;32mIn[1], line 1\u001b[0;36m\u001b[0m\n\u001b[0;31m    Q1. Create a Pandas Series that contains the following data: 4, 8, 15, 16, 23, and 42. Then, print the series.\u001b[0m\n\u001b[0m               ^\u001b[0m\n\u001b[0;31mSyntaxError\u001b[0m\u001b[0;31m:\u001b[0m invalid syntax\n"
     ]
    }
   ],
   "source": [
    "Q1. Create a Pandas Series that contains the following data: 4, 8, 15, 16, 23, and 42. Then, print the series."
   ]
  },
  {
   "cell_type": "code",
   "execution_count": null,
   "id": "75be92a5-fbf3-490a-8243-81ed6b3efb31",
   "metadata": {},
   "outputs": [],
   "source": [
    "# Ans\n",
    "import pandas as pd"
   ]
  },
  {
   "cell_type": "code",
   "execution_count": null,
   "id": "579fe0cf-4930-4468-88aa-2aa6432d7d24",
   "metadata": {},
   "outputs": [],
   "source": [
    "ds=pd.Series([4,8,15,16,23,42])"
   ]
  },
  {
   "cell_type": "code",
   "execution_count": null,
   "id": "17711fca-641f-4649-a50c-2a586384a4aa",
   "metadata": {},
   "outputs": [],
   "source": [
    "ds"
   ]
  },
  {
   "cell_type": "code",
   "execution_count": null,
   "id": "2eaebd26-cf30-4933-bf18-af767bce123c",
   "metadata": {},
   "outputs": [],
   "source": [
    "type(ds)"
   ]
  },
  {
   "cell_type": "code",
   "execution_count": null,
   "id": "fd49cd5c-8933-4c18-8261-f66042dc5408",
   "metadata": {},
   "outputs": [],
   "source": [
    "Q2. Create a variable of list type containing 10 elements in it, and apply pandas.Series function on the\n",
    "variable print it."
   ]
  },
  {
   "cell_type": "code",
   "execution_count": null,
   "id": "2525972e-a558-44ed-b43f-e96d6c8190cf",
   "metadata": {},
   "outputs": [],
   "source": [
    "import pandas\n",
    "var=[0,1,2,3,4,5,6,7,8,9]\n",
    "pandas.Series(var)"
   ]
  },
  {
   "cell_type": "code",
   "execution_count": null,
   "id": "223e9250-108c-4c1f-99a0-3ff991e24c12",
   "metadata": {},
   "outputs": [],
   "source": [
    "Q3. Create a Pandas DataFrame that contains the following data:"
   ]
  },
  {
   "cell_type": "code",
   "execution_count": null,
   "id": "1bd96f7a-cef4-44d5-9958-0f55ab142f69",
   "metadata": {},
   "outputs": [],
   "source": [
    "\n",
    "import pandas as pd\n",
    "  \n",
    "data = [['Alice', 25,'Female'], ['Bob',30, 'male'], ['Claire', 27,\"female\"]]\n",
    "  \n",
    "df = pd.DataFrame(data, columns=['Name', 'Age','Gender'])\n",
    "  \n",
    "# print dataframe\n",
    "df\n"
   ]
  },
  {
   "cell_type": "code",
   "execution_count": null,
   "id": "43afaa6f-029b-4cc8-8d27-e76cb9de7576",
   "metadata": {},
   "outputs": [],
   "source": [
    "type(df)"
   ]
  },
  {
   "cell_type": "code",
   "execution_count": null,
   "id": "ee3e92ec-3ef0-4328-a9b0-53a2975fb11e",
   "metadata": {},
   "outputs": [],
   "source": [
    "import pandas as pd\n",
    "  \n",
    "# initialize data of lists.\n",
    "data = {'Name': ['Alice', 'Bob', 'Claire'],\n",
    "        'Age': [25, 30, 27],\n",
    "        'Gender':['Female','Male','Female']}\n",
    "  \n",
    "# Create DataFrame\n",
    "df = pd.DataFrame(data)\n",
    "  \n",
    "# Print the output.\n",
    "df"
   ]
  },
  {
   "cell_type": "code",
   "execution_count": null,
   "id": "22f0de7c-9632-41bc-a709-8017f6b393a6",
   "metadata": {},
   "outputs": [],
   "source": [
    "Q4. What is ‘DataFrame’ in pandas and how is it different from pandas.series? Explain with an example."
   ]
  },
  {
   "cell_type": "code",
   "execution_count": null,
   "id": "7c112075-bea7-4a83-99dc-5d27c3bb6f8b",
   "metadata": {},
   "outputs": [],
   "source": [
    "Ans Series\n",
    "    A pandas series is a one-dimensional data structure that comprises of key-value pair, where keys/labels are the indices and values are the values stored on that index. \n",
    "    It is similar to a python dictionary, except it provides more freedom to manipulate and edit the data.\n",
    "    \n",
    "    DataFrame\n",
    "    A pandas DataFrame is a two-dimensional data structure that can be thought of as a spreadsheet. It can also be thought of as a collection of two or more series with common indices.\n",
    "    "
   ]
  },
  {
   "cell_type": "code",
   "execution_count": 3,
   "id": "07ce7f08-2484-45be-a226-bb2ae180a385",
   "metadata": {},
   "outputs": [],
   "source": [
    "import pandas as pd\n",
    "  \n",
    "# initialize data of lists.\n",
    "data = {'Name': ['Alice', 'Bob', 'Claire'],\n",
    "        'Age': [25, 30, 27],\n",
    "        'Gender':['Female','Male','Female']}"
   ]
  },
  {
   "cell_type": "code",
   "execution_count": 4,
   "id": "166efbfb-a1f8-4c10-96cf-823c9c4cfe29",
   "metadata": {},
   "outputs": [
    {
     "data": {
      "text/html": [
       "<div>\n",
       "<style scoped>\n",
       "    .dataframe tbody tr th:only-of-type {\n",
       "        vertical-align: middle;\n",
       "    }\n",
       "\n",
       "    .dataframe tbody tr th {\n",
       "        vertical-align: top;\n",
       "    }\n",
       "\n",
       "    .dataframe thead th {\n",
       "        text-align: right;\n",
       "    }\n",
       "</style>\n",
       "<table border=\"1\" class=\"dataframe\">\n",
       "  <thead>\n",
       "    <tr style=\"text-align: right;\">\n",
       "      <th></th>\n",
       "      <th>Name</th>\n",
       "      <th>Age</th>\n",
       "      <th>Gender</th>\n",
       "    </tr>\n",
       "  </thead>\n",
       "  <tbody>\n",
       "    <tr>\n",
       "      <th>0</th>\n",
       "      <td>Alice</td>\n",
       "      <td>25</td>\n",
       "      <td>Female</td>\n",
       "    </tr>\n",
       "    <tr>\n",
       "      <th>1</th>\n",
       "      <td>Bob</td>\n",
       "      <td>30</td>\n",
       "      <td>Male</td>\n",
       "    </tr>\n",
       "    <tr>\n",
       "      <th>2</th>\n",
       "      <td>Claire</td>\n",
       "      <td>27</td>\n",
       "      <td>Female</td>\n",
       "    </tr>\n",
       "  </tbody>\n",
       "</table>\n",
       "</div>"
      ],
      "text/plain": [
       "     Name  Age  Gender\n",
       "0   Alice   25  Female\n",
       "1     Bob   30    Male\n",
       "2  Claire   27  Female"
      ]
     },
     "execution_count": 4,
     "metadata": {},
     "output_type": "execute_result"
    }
   ],
   "source": [
    "df = pd.DataFrame(data)\n",
    "df"
   ]
  },
  {
   "cell_type": "code",
   "execution_count": 5,
   "id": "045099de-826e-4f7a-8d2a-4966442fab7d",
   "metadata": {},
   "outputs": [
    {
     "data": {
      "text/plain": [
       "Name        [Alice, Bob, Claire]\n",
       "Age                 [25, 30, 27]\n",
       "Gender    [Female, Male, Female]\n",
       "dtype: object"
      ]
     },
     "execution_count": 5,
     "metadata": {},
     "output_type": "execute_result"
    }
   ],
   "source": [
    "df = pd.Series(data)\n",
    "df"
   ]
  },
  {
   "cell_type": "code",
   "execution_count": null,
   "id": "4fd120b2-6bab-4044-82cd-5d466b5cdb1c",
   "metadata": {},
   "outputs": [],
   "source": [
    "Q5. What are some common functions you can use to manipulate data in a Pandas DataFrame? Can\n",
    "you give an example of when you might use one of these functions?"
   ]
  },
  {
   "cell_type": "code",
   "execution_count": 6,
   "id": "0d351929-658f-4dcf-9f7e-0243bc1a1c7e",
   "metadata": {},
   "outputs": [
    {
     "data": {
      "text/html": [
       "<div>\n",
       "<style scoped>\n",
       "    .dataframe tbody tr th:only-of-type {\n",
       "        vertical-align: middle;\n",
       "    }\n",
       "\n",
       "    .dataframe tbody tr th {\n",
       "        vertical-align: top;\n",
       "    }\n",
       "\n",
       "    .dataframe thead th {\n",
       "        text-align: right;\n",
       "    }\n",
       "</style>\n",
       "<table border=\"1\" class=\"dataframe\">\n",
       "  <thead>\n",
       "    <tr style=\"text-align: right;\">\n",
       "      <th></th>\n",
       "      <th>Name</th>\n",
       "      <th>Class</th>\n",
       "      <th>Roll</th>\n",
       "    </tr>\n",
       "  </thead>\n",
       "  <tbody>\n",
       "    <tr>\n",
       "      <th>0</th>\n",
       "      <td>Kaarun</td>\n",
       "      <td>B tech</td>\n",
       "      <td>3232</td>\n",
       "    </tr>\n",
       "    <tr>\n",
       "      <th>1</th>\n",
       "      <td>Deepak</td>\n",
       "      <td>B tech</td>\n",
       "      <td>3244</td>\n",
       "    </tr>\n",
       "    <tr>\n",
       "      <th>2</th>\n",
       "      <td>Archana</td>\n",
       "      <td>B tech</td>\n",
       "      <td>3252</td>\n",
       "    </tr>\n",
       "    <tr>\n",
       "      <th>3</th>\n",
       "      <td>Shubham</td>\n",
       "      <td>B tech</td>\n",
       "      <td>3262</td>\n",
       "    </tr>\n",
       "    <tr>\n",
       "      <th>4</th>\n",
       "      <td>Rosan</td>\n",
       "      <td>B tech</td>\n",
       "      <td>3272</td>\n",
       "    </tr>\n",
       "  </tbody>\n",
       "</table>\n",
       "</div>"
      ],
      "text/plain": [
       "      Name   Class  Roll\n",
       "0   Kaarun  B tech  3232\n",
       "1   Deepak  B tech  3244\n",
       "2  Archana  B tech  3252\n",
       "3  Shubham  B tech  3262\n",
       "4    Rosan  B tech  3272"
      ]
     },
     "execution_count": 6,
     "metadata": {},
     "output_type": "execute_result"
    }
   ],
   "source": [
    "data = [{'Name': 'Kaarun', 'Class': 'B tech', 'Roll': 3232},\n",
    "        {'Name': 'Deepak', 'Class': 'B tech', 'Roll': 3244},\n",
    "        {'Name': 'Archana', 'Class': 'B tech', 'Roll': 3252},\n",
    "        {'Name': 'Shubham', 'Class': 'B tech', 'Roll': 3262},\n",
    "        {'Name': 'Rosan', 'Class': 'B tech', 'Roll': 3272}]\n",
    "        \n",
    "\n",
    "df = pd.DataFrame(data)\n",
    "  \n",
    "# Print the data\n",
    "df"
   ]
  },
  {
   "cell_type": "code",
   "execution_count": 11,
   "id": "3bc0dd86-3c1d-4a22-b676-2af1259d3381",
   "metadata": {},
   "outputs": [
    {
     "data": {
      "text/html": [
       "<div>\n",
       "<style scoped>\n",
       "    .dataframe tbody tr th:only-of-type {\n",
       "        vertical-align: middle;\n",
       "    }\n",
       "\n",
       "    .dataframe tbody tr th {\n",
       "        vertical-align: top;\n",
       "    }\n",
       "\n",
       "    .dataframe thead th {\n",
       "        text-align: right;\n",
       "    }\n",
       "</style>\n",
       "<table border=\"1\" class=\"dataframe\">\n",
       "  <thead>\n",
       "    <tr style=\"text-align: right;\">\n",
       "      <th></th>\n",
       "      <th>Name</th>\n",
       "    </tr>\n",
       "  </thead>\n",
       "  <tbody>\n",
       "    <tr>\n",
       "      <th>2</th>\n",
       "      <td>Archana</td>\n",
       "    </tr>\n",
       "    <tr>\n",
       "      <th>3</th>\n",
       "      <td>Shubham</td>\n",
       "    </tr>\n",
       "    <tr>\n",
       "      <th>4</th>\n",
       "      <td>Rosan</td>\n",
       "    </tr>\n",
       "  </tbody>\n",
       "</table>\n",
       "</div>"
      ],
      "text/plain": [
       "      Name\n",
       "2  Archana\n",
       "3  Shubham\n",
       "4    Rosan"
      ]
     },
     "execution_count": 11,
     "metadata": {},
     "output_type": "execute_result"
    }
   ],
   "source": [
    "df[['Name']][2:5]"
   ]
  },
  {
   "cell_type": "code",
   "execution_count": 8,
   "id": "cf66837d-f7a2-4b32-854d-469f169e8f67",
   "metadata": {},
   "outputs": [
    {
     "data": {
      "text/plain": [
       "['Name', 'Class', 'Roll']"
      ]
     },
     "execution_count": 8,
     "metadata": {},
     "output_type": "execute_result"
    }
   ],
   "source": [
    "list(df.columns)"
   ]
  },
  {
   "cell_type": "code",
   "execution_count": 15,
   "id": "72e7bba0-3f64-467d-841d-fcbd4fbc12d0",
   "metadata": {},
   "outputs": [
    {
     "data": {
      "text/html": [
       "<div>\n",
       "<style scoped>\n",
       "    .dataframe tbody tr th:only-of-type {\n",
       "        vertical-align: middle;\n",
       "    }\n",
       "\n",
       "    .dataframe tbody tr th {\n",
       "        vertical-align: top;\n",
       "    }\n",
       "\n",
       "    .dataframe thead th {\n",
       "        text-align: right;\n",
       "    }\n",
       "</style>\n",
       "<table border=\"1\" class=\"dataframe\">\n",
       "  <thead>\n",
       "    <tr style=\"text-align: right;\">\n",
       "      <th></th>\n",
       "      <th>Roll</th>\n",
       "    </tr>\n",
       "  </thead>\n",
       "  <tbody>\n",
       "    <tr>\n",
       "      <th>0</th>\n",
       "      <td>3232</td>\n",
       "    </tr>\n",
       "    <tr>\n",
       "      <th>1</th>\n",
       "      <td>3244</td>\n",
       "    </tr>\n",
       "    <tr>\n",
       "      <th>2</th>\n",
       "      <td>3252</td>\n",
       "    </tr>\n",
       "    <tr>\n",
       "      <th>3</th>\n",
       "      <td>3262</td>\n",
       "    </tr>\n",
       "    <tr>\n",
       "      <th>4</th>\n",
       "      <td>3272</td>\n",
       "    </tr>\n",
       "  </tbody>\n",
       "</table>\n",
       "</div>"
      ],
      "text/plain": [
       "   Roll\n",
       "0  3232\n",
       "1  3244\n",
       "2  3252\n",
       "3  3262\n",
       "4  3272"
      ]
     },
     "execution_count": 15,
     "metadata": {},
     "output_type": "execute_result"
    }
   ],
   "source": [
    "df[['Roll']]"
   ]
  },
  {
   "cell_type": "code",
   "execution_count": 17,
   "id": "738c2300-e02c-4f47-84f3-04d13490b3ec",
   "metadata": {},
   "outputs": [
    {
     "data": {
      "text/html": [
       "<div>\n",
       "<style scoped>\n",
       "    .dataframe tbody tr th:only-of-type {\n",
       "        vertical-align: middle;\n",
       "    }\n",
       "\n",
       "    .dataframe tbody tr th {\n",
       "        vertical-align: top;\n",
       "    }\n",
       "\n",
       "    .dataframe thead th {\n",
       "        text-align: right;\n",
       "    }\n",
       "</style>\n",
       "<table border=\"1\" class=\"dataframe\">\n",
       "  <thead>\n",
       "    <tr style=\"text-align: right;\">\n",
       "      <th></th>\n",
       "      <th>Name</th>\n",
       "      <th>Class</th>\n",
       "      <th>Roll</th>\n",
       "    </tr>\n",
       "  </thead>\n",
       "  <tbody>\n",
       "    <tr>\n",
       "      <th>0</th>\n",
       "      <td>Kaarun</td>\n",
       "      <td>B tech</td>\n",
       "      <td>3232</td>\n",
       "    </tr>\n",
       "    <tr>\n",
       "      <th>1</th>\n",
       "      <td>Deepak</td>\n",
       "      <td>B tech</td>\n",
       "      <td>3244</td>\n",
       "    </tr>\n",
       "    <tr>\n",
       "      <th>2</th>\n",
       "      <td>Archana</td>\n",
       "      <td>B tech</td>\n",
       "      <td>3252</td>\n",
       "    </tr>\n",
       "  </tbody>\n",
       "</table>\n",
       "</div>"
      ],
      "text/plain": [
       "      Name   Class  Roll\n",
       "0   Kaarun  B tech  3232\n",
       "1   Deepak  B tech  3244\n",
       "2  Archana  B tech  3252"
      ]
     },
     "execution_count": 17,
     "metadata": {},
     "output_type": "execute_result"
    }
   ],
   "source": [
    "df[0:3]"
   ]
  },
  {
   "cell_type": "code",
   "execution_count": null,
   "id": "fde0a5b3-213a-40f6-b39c-7a0913c1fa35",
   "metadata": {},
   "outputs": [],
   "source": [
    "Q6. Which of the following is mutable in nature Series, DataFrame, Panel?\n",
    "Ans DataFrame"
   ]
  },
  {
   "cell_type": "code",
   "execution_count": null,
   "id": "0e0c40df-c998-4db2-8bcb-79c89000669d",
   "metadata": {},
   "outputs": [],
   "source": [
    "Q7. Create a DataFrame using multiple Series. Explain with an example."
   ]
  },
  {
   "cell_type": "code",
   "execution_count": 26,
   "id": "e9eb1040-e847-4fd5-bdeb-66762b13f8a5",
   "metadata": {},
   "outputs": [],
   "source": [
    "import pandas as pd\n",
    "courses = pd.Series([\"Spark\",\"PySpark\",\"Hadoop\"],name=\"course\")\n",
    "fees = pd.Series([22000,25000,23000],name=\"fees\")\n",
    "discount  = pd.Series([1000,2300,1000],name=\"discount\")"
   ]
  },
  {
   "cell_type": "code",
   "execution_count": 30,
   "id": "c7179799-fcad-4731-8a2c-d4119b880a23",
   "metadata": {},
   "outputs": [
    {
     "data": {
      "text/html": [
       "<div>\n",
       "<style scoped>\n",
       "    .dataframe tbody tr th:only-of-type {\n",
       "        vertical-align: middle;\n",
       "    }\n",
       "\n",
       "    .dataframe tbody tr th {\n",
       "        vertical-align: top;\n",
       "    }\n",
       "\n",
       "    .dataframe thead th {\n",
       "        text-align: right;\n",
       "    }\n",
       "</style>\n",
       "<table border=\"1\" class=\"dataframe\">\n",
       "  <thead>\n",
       "    <tr style=\"text-align: right;\">\n",
       "      <th></th>\n",
       "      <th>course</th>\n",
       "      <th>fees</th>\n",
       "      <th>discount</th>\n",
       "    </tr>\n",
       "  </thead>\n",
       "  <tbody>\n",
       "    <tr>\n",
       "      <th>0</th>\n",
       "      <td>Spark</td>\n",
       "      <td>22000</td>\n",
       "      <td>1000</td>\n",
       "    </tr>\n",
       "    <tr>\n",
       "      <th>1</th>\n",
       "      <td>PySpark</td>\n",
       "      <td>25000</td>\n",
       "      <td>2300</td>\n",
       "    </tr>\n",
       "    <tr>\n",
       "      <th>2</th>\n",
       "      <td>Hadoop</td>\n",
       "      <td>23000</td>\n",
       "      <td>1000</td>\n",
       "    </tr>\n",
       "  </tbody>\n",
       "</table>\n",
       "</div>"
      ],
      "text/plain": [
       "    course   fees  discount\n",
       "0    Spark  22000      1000\n",
       "1  PySpark  25000      2300\n",
       "2   Hadoop  23000      1000"
      ]
     },
     "execution_count": 30,
     "metadata": {},
     "output_type": "execute_result"
    }
   ],
   "source": [
    "df=pd.concat([courses,fees,discount],axis=1)\n",
    "df"
   ]
  },
  {
   "cell_type": "code",
   "execution_count": null,
   "id": "4068ed39-83b2-4713-af7e-5330af61fbac",
   "metadata": {},
   "outputs": [],
   "source": []
  }
 ],
 "metadata": {
  "kernelspec": {
   "display_name": "Python 3 (ipykernel)",
   "language": "python",
   "name": "python3"
  },
  "language_info": {
   "codemirror_mode": {
    "name": "ipython",
    "version": 3
   },
   "file_extension": ".py",
   "mimetype": "text/x-python",
   "name": "python",
   "nbconvert_exporter": "python",
   "pygments_lexer": "ipython3",
   "version": "3.10.8"
  }
 },
 "nbformat": 4,
 "nbformat_minor": 5
}
