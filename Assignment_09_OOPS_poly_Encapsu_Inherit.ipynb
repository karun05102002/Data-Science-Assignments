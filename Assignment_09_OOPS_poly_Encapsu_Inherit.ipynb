{
 "cells": [
  {
   "cell_type": "code",
   "execution_count": 4,
   "id": "1154e462-e27a-4a5c-9b11-cfc19fdf0671",
   "metadata": {},
   "outputs": [],
   "source": [
    "Q1. What is Abstraction in OOps? Explain with an example."
   ]
  },
  {
   "cell_type": "code",
   "execution_count": 5,
   "id": "878d5c8d-ef0b-4f16-99e2-d4fa2f8bb9da",
   "metadata": {},
   "outputs": [],
   "source": [
    "Ans1. Abstraction is used to hide the internal functionality of the function from the users.\n",
    "    The users only interact with the basic implementation of the function, but inner working is hidden.\n",
    "    User is familiar with that \"what function does\" but they don't know \"how it does.\"\n",
    "    \n",
    "    When we use the TV remote to increase the volume. We don't know how pressing a key increases the volume of the TV. \n",
    "    We only know to press the \"+\" button to increase the volume."
   ]
  },
  {
   "cell_type": "code",
   "execution_count": 6,
   "id": "34af4ac6-f224-40e5-8941-ea52fcfb6b00",
   "metadata": {},
   "outputs": [],
   "source": [
    "Q2. Differentiate between Abstraction and Encapsulation. Explain with an example."
   ]
  },
  {
   "cell_type": "code",
   "execution_count": 7,
   "id": "f6d831a5-f038-41cc-8864-0e31a1df7b16",
   "metadata": {},
   "outputs": [],
   "source": [
    "Ans2.Abstraction is a design level process and it is used to reduce the complexity at the designing stage of a project.\n",
    "    Encapsulation is an implementation level process, and it is used to provide privacy and maintain control over the transparency of data at the implementation stage of a project.\n",
    "    \n",
    "    Encapsulation means hiding the internal details or mechanics of how an object does something. Abstraction is outer layout in terms of design. \n",
    "    For Example: - Outer Look of a iPhone, like it has a display screen. Encapsulation is inner layout in terms of implementation."
   ]
  },
  {
   "cell_type": "code",
   "execution_count": 9,
   "id": "c36901a4-1714-4161-a9b9-38b7eff257c1",
   "metadata": {},
   "outputs": [],
   "source": [
    "Q3. What is abc module in python? Why is it used?"
   ]
  },
  {
   "cell_type": "code",
   "execution_count": 10,
   "id": "affdbf35-4815-4b80-92bf-823901aef171",
   "metadata": {},
   "outputs": [],
   "source": [
    "# Abstract classes are classes that contain one or more abstract methods.\n",
    "# An abstract method is a method that is declared, but contains no implementation. Abstract classes cannot be instantiated, and require subclasses to provide implementations for the abstract methods.\n",
    "\n",
    "\n",
    "from abc import ABC, abstractmethod\n",
    " \n",
    "class AbstractClassExample(ABC):\n",
    " \n",
    "    def __init__(self, value):\n",
    "        self.value = value\n",
    "        super().__init__()\n",
    "    \n",
    "    @abstractmethod\n",
    "    def do_something(self):\n",
    "        pass"
   ]
  },
  {
   "cell_type": "code",
   "execution_count": 11,
   "id": "c7eacb62-4ff0-4569-b49f-dd37878c55dd",
   "metadata": {},
   "outputs": [],
   "source": [
    "Q4. How can we achieve data abstraction?"
   ]
  },
  {
   "cell_type": "code",
   "execution_count": 12,
   "id": "1f70d3f5-f98e-4dce-a5a0-4506278e28c1",
   "metadata": {},
   "outputs": [],
   "source": [
    "Ans.In Python, abstraction can be achieved by having/using abstract classes and methods in our programs.\n",
    "    Understanding Abstract Methods and Classes: An abstract method is a method that is declared, but does not contain implementation."
   ]
  },
  {
   "cell_type": "code",
   "execution_count": 13,
   "id": "088228b3-18b8-4ceb-96aa-9b6bb5289f71",
   "metadata": {},
   "outputs": [],
   "source": [
    "Q5. Can we create an instance of an abstract class? Explain your answer."
   ]
  },
  {
   "cell_type": "code",
   "execution_count": 14,
   "id": "540f59cc-3358-4faa-97ce-9f39452e7fb5",
   "metadata": {},
   "outputs": [],
   "source": [
    "Ans.We cannot create objects of an abstract class. \n",
    "   To implement features of an abstract class, we inherit subclasses from it and create objects of the subclass. \n",
    "   A subclass must override all abstract methods of an abstract class. However, if the subclass is declared abstract, it's not mandatory to override abstract methods."
   ]
  },
  {
   "cell_type": "code",
   "execution_count": null,
   "id": "796c310b-acd2-4eac-8b33-ea92c8d87b99",
   "metadata": {},
   "outputs": [],
   "source": []
  }
 ],
 "metadata": {
  "kernelspec": {
   "display_name": "Python 3 (ipykernel)",
   "language": "python",
   "name": "python3"
  },
  "language_info": {
   "codemirror_mode": {
    "name": "ipython",
    "version": 3
   },
   "file_extension": ".py",
   "mimetype": "text/x-python",
   "name": "python",
   "nbconvert_exporter": "python",
   "pygments_lexer": "ipython3",
   "version": "3.10.6"
  }
 },
 "nbformat": 4,
 "nbformat_minor": 5
}
