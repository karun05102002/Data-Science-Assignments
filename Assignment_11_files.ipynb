{
 "cells": [
  {
   "cell_type": "code",
   "execution_count": null,
   "id": "9aba3898",
   "metadata": {},
   "outputs": [],
   "source": [
    "Q1. Which function is used to open a file? What are the different modes of opening a file? Explain each mode\n",
    "of file opening."
   ]
  },
  {
   "cell_type": "code",
   "execution_count": null,
   "id": "a4a13e43",
   "metadata": {},
   "outputs": [],
   "source": [
    "Ans # f=open() function is used to open a file\n",
    "\n",
    "# r - open a file in read mode.\n",
    "# w - opens or create a text file in write mode.\n",
    "# a - opens a file in append mode.\n",
    "# r+ - opens a file in both read and write mode.\n",
    "# a+ - opens a file in both read and write mode.\n",
    "# w+ - opens a file in both read and write mode.\n"
   ]
  },
  {
   "cell_type": "code",
   "execution_count": null,
   "id": "e8f64eff",
   "metadata": {},
   "outputs": [],
   "source": [
    "Q2. Why close() function is used? Why is it important to close a file?"
   ]
  },
  {
   "cell_type": "code",
   "execution_count": null,
   "id": "59c89a14",
   "metadata": {},
   "outputs": [],
   "source": [
    "Ans# The close() method closes an open file. We should always close your files, \n",
    "# in some cases, due to buffering, changes mode to a file may not\n",
    "# show until you close the file."
   ]
  },
  {
   "cell_type": "code",
   "execution_count": null,
   "id": "9f826031",
   "metadata": {},
   "outputs": [],
   "source": [
    "Q3. Write a python program to create a text file. Write ‘I want to become a Data Scientist’ in that file. Then\n",
    "  close the file. Open this file and read the content of the file."
   ]
  },
  {
   "cell_type": "code",
   "execution_count": 67,
   "id": "d98348e8",
   "metadata": {},
   "outputs": [],
   "source": [
    "# Ans\n",
    "text= open(\"text.txt\",'w')"
   ]
  },
  {
   "cell_type": "code",
   "execution_count": 68,
   "id": "79b9ccfb",
   "metadata": {},
   "outputs": [
    {
     "data": {
      "text/plain": [
       "33"
      ]
     },
     "execution_count": 68,
     "metadata": {},
     "output_type": "execute_result"
    }
   ],
   "source": [
    "text.write('I want to become a Data Scientist')"
   ]
  },
  {
   "cell_type": "code",
   "execution_count": 70,
   "id": "873ed296",
   "metadata": {},
   "outputs": [],
   "source": [
    "karun.close()"
   ]
  },
  {
   "cell_type": "code",
   "execution_count": 71,
   "id": "fe4c0501",
   "metadata": {},
   "outputs": [],
   "source": [
    "text= open(\"text.txt\",'r')"
   ]
  },
  {
   "cell_type": "code",
   "execution_count": 72,
   "id": "5370cda3",
   "metadata": {},
   "outputs": [
    {
     "data": {
      "text/plain": [
       "'I want to become a Data Scientist'"
      ]
     },
     "execution_count": 72,
     "metadata": {},
     "output_type": "execute_result"
    }
   ],
   "source": [
    "text.read()"
   ]
  },
  {
   "cell_type": "code",
   "execution_count": null,
   "id": "2f20d242",
   "metadata": {},
   "outputs": [],
   "source": [
    "Q4. Explain the following with python code: read(), readline() and readlines()."
   ]
  },
  {
   "cell_type": "code",
   "execution_count": 80,
   "id": "ebeb04d9",
   "metadata": {},
   "outputs": [],
   "source": [
    "# Ans The read() will read the whole file at once and then print \n",
    "#   out the first characters that take up as many bytes as you specify in the \n",
    "#   parenthesis versus \n",
    "#   readline() method will return a line from the file when called. \n",
    "#   readlines() method will return all the lines in a file in the format of \n",
    "#   a list where each element is a line in the file.\n",
    "text= open(\"text.txt\",'r')"
   ]
  },
  {
   "cell_type": "code",
   "execution_count": 81,
   "id": "7c8b474c",
   "metadata": {},
   "outputs": [
    {
     "data": {
      "text/plain": [
       "'I want to become a Data Scientist\\na=[23,435,5456,56567,76]'"
      ]
     },
     "execution_count": 81,
     "metadata": {},
     "output_type": "execute_result"
    }
   ],
   "source": [
    "text.read()"
   ]
  },
  {
   "cell_type": "code",
   "execution_count": 82,
   "id": "e0270014",
   "metadata": {},
   "outputs": [
    {
     "data": {
      "text/plain": [
       "''"
      ]
     },
     "execution_count": 82,
     "metadata": {},
     "output_type": "execute_result"
    }
   ],
   "source": [
    "text.readline()"
   ]
  },
  {
   "cell_type": "code",
   "execution_count": 83,
   "id": "64ebadb4",
   "metadata": {},
   "outputs": [
    {
     "data": {
      "text/plain": [
       "[]"
      ]
     },
     "execution_count": 83,
     "metadata": {},
     "output_type": "execute_result"
    }
   ],
   "source": [
    "text.readlines()"
   ]
  },
  {
   "cell_type": "code",
   "execution_count": 84,
   "id": "1fbaff3d",
   "metadata": {},
   "outputs": [
    {
     "data": {
      "text/plain": [
       "0"
      ]
     },
     "execution_count": 84,
     "metadata": {},
     "output_type": "execute_result"
    }
   ],
   "source": [
    "text.seek(0)"
   ]
  },
  {
   "cell_type": "code",
   "execution_count": 85,
   "id": "3389bf9c",
   "metadata": {},
   "outputs": [
    {
     "data": {
      "text/plain": [
       "'I want to become a Data Scientist\\n'"
      ]
     },
     "execution_count": 85,
     "metadata": {},
     "output_type": "execute_result"
    }
   ],
   "source": [
    "text.readline()"
   ]
  },
  {
   "cell_type": "code",
   "execution_count": 86,
   "id": "6d88de42",
   "metadata": {},
   "outputs": [
    {
     "data": {
      "text/plain": [
       "['a=[23,435,5456,56567,76]']"
      ]
     },
     "execution_count": 86,
     "metadata": {},
     "output_type": "execute_result"
    }
   ],
   "source": [
    "text.readlines()"
   ]
  },
  {
   "cell_type": "code",
   "execution_count": null,
   "id": "4fe3048a",
   "metadata": {},
   "outputs": [],
   "source": [
    "Q5. Explain why with statement is used with open(). What is the advantage of using with statement and\n",
    "   \n",
    "    open() together?"
   ]
  },
  {
   "cell_type": "code",
   "execution_count": null,
   "id": "2bafbbcf",
   "metadata": {},
   "outputs": [],
   "source": [
    "# Ans \n",
    "Unlike open() where you have to close the file with the close() method, the with statement closes the file for you without you telling it to.\n",
    "This is because the with statement calls 2 built-in methods behind the scene – __enter()__ and __exit()__.\n",
    "The __exit()__ method closes the file when the operation you specify is done.\n",
    "With the write() method, you also write to the file as I did below:\n",
    "#Advantage   \n",
    "the with statement closes the file for you and you get to write less code."
   ]
  },
  {
   "cell_type": "code",
   "execution_count": null,
   "id": "8e779aa0",
   "metadata": {},
   "outputs": [],
   "source": [
    "Q-6 Explain the write() and writelines() functions. Give a suitable example."
   ]
  },
  {
   "cell_type": "code",
   "execution_count": null,
   "id": "9ec9abcd",
   "metadata": {},
   "outputs": [],
   "source": [
    "write() function\n",
    "The write() function will write the content in the file without adding any extra characters."
   ]
  },
  {
   "cell_type": "code",
   "execution_count": 87,
   "id": "9980914c",
   "metadata": {},
   "outputs": [
    {
     "name": "stdout",
     "output_type": "stream",
     "text": [
      "Enter the name of the employee: karun verma\n",
      "Enter the name of the employee: deepak\n",
      "Enter the name of the employee: rohan\n",
      "Data is written into the file.\n"
     ]
    }
   ],
   "source": [
    "file = open(\"Employees.txt\", \"w\")\n",
    "  \n",
    "for i in range(3):\n",
    "   name = input(\"Enter the name of the employee: \")\n",
    "   file.write(name)\n",
    "   file.write(\"\\n\")\n",
    "     \n",
    "file.close()\n",
    "  \n",
    "print(\"Data is written into the file.\")"
   ]
  },
  {
   "cell_type": "code",
   "execution_count": null,
   "id": "ee4aae80",
   "metadata": {},
   "outputs": [],
   "source": [
    "writelines() function\n",
    "This function writes the content of a list to a file."
   ]
  },
  {
   "cell_type": "code",
   "execution_count": 89,
   "id": "c14b6c04",
   "metadata": {},
   "outputs": [
    {
     "name": "stdout",
     "output_type": "stream",
     "text": [
      "Enter the name of the employee: shubham\n",
      "Enter the name of the employee: karun\n",
      "Enter the name of the employee: deepak\n",
      "Data is written into the file.\n"
     ]
    }
   ],
   "source": [
    "file1 = open(\"Employees.txt\", \"w\")\n",
    "lst = []\n",
    "for i in range(3):\n",
    "    name = input(\"Enter the name of the employee: \")\n",
    "    lst.append(name + '\\n')\n",
    "      \n",
    "file1.writelines(lst)\n",
    "file1.close()\n",
    "print(\"Data is written into the file.\") "
   ]
  },
  {
   "cell_type": "code",
   "execution_count": null,
   "id": "b32a02ff",
   "metadata": {},
   "outputs": [],
   "source": []
  }
 ],
 "metadata": {
  "kernelspec": {
   "display_name": "Python 3 (ipykernel)",
   "language": "python",
   "name": "python3"
  },
  "language_info": {
   "codemirror_mode": {
    "name": "ipython",
    "version": 3
   },
   "file_extension": ".py",
   "mimetype": "text/x-python",
   "name": "python",
   "nbconvert_exporter": "python",
   "pygments_lexer": "ipython3",
   "version": "3.9.13"
  }
 },
 "nbformat": 4,
 "nbformat_minor": 5
}
