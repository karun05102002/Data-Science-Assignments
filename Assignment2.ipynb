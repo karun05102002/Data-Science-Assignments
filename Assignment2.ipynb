{
 "cells": [
  {
   "cell_type": "code",
   "execution_count": 7,
   "id": "614a7430-5539-4df3-8f7f-cd789d598c3b",
   "metadata": {},
   "outputs": [
    {
     "name": "stdout",
     "output_type": "stream",
     "text": [
      "for loop compleate\n",
      "[0, 1, 2, 3, 4, 5, 6, 7, 8, 9]\n",
      "[1, 2, 3, 4, 5, 6, 7, 8, 9, 10]\n"
     ]
    }
   ],
   "source": [
    "# Q1. Explain with an example each when to use a for loop and a while loop.\n",
    "# Ans for loop is used when the number of iterations is known, whereas execution is \n",
    "# done in the while loop until the statement in the program is proved wrong.\n",
    "l1=[]\n",
    "for i in range(10):\n",
    "    l1.append(i)\n",
    "else:\n",
    "    print(\"for loop compleate\")\n",
    "l2=[]    \n",
    "a=1    \n",
    "while a<=10:\n",
    "    l2.append(a)\n",
    "    a+=1\n",
    "print(l1)\n",
    "print(l2)"
   ]
  },
  {
   "cell_type": "code",
   "execution_count": 10,
   "id": "db2ddc7a-25ef-4ed9-bcce-77fdbde6bc03",
   "metadata": {},
   "outputs": [
    {
     "name": "stdin",
     "output_type": "stream",
     "text": [
      " How muct list item you want to print = 2\n",
      " 2\n",
      " 3\n"
     ]
    },
    {
     "name": "stdout",
     "output_type": "stream",
     "text": [
      "sum = 6\n",
      "product = 18\n"
     ]
    }
   ],
   "source": [
    "# Q2. Write a python program to print the sum and product of the first 10 natural numbers using for\n",
    "# and while loop.\n",
    "n= int(input(\" How muct list item you want to print =\"))\n",
    "lst=[]\n",
    "b=1\n",
    "for i in range(0,n):\n",
    "    a=int(input())\n",
    "    b=b+a\n",
    "    c=b*a\n",
    "    \n",
    "    lst.append(a)\n",
    "print(\"sum =\",b)\n",
    "print(\"product =\",c)\n",
    "    \n",
    "    \n"
   ]
  },
  {
   "cell_type": "code",
   "execution_count": 13,
   "id": "57b7fa33-b27a-432d-b549-4d4d475139f7",
   "metadata": {},
   "outputs": [
    {
     "name": "stdin",
     "output_type": "stream",
     "text": [
      " Enter the unit of electricity consumed by a month = 203\n"
     ]
    },
    {
     "name": "stdout",
     "output_type": "stream",
     "text": [
      "cost 2030\n"
     ]
    }
   ],
   "source": [
    "# Q3. Create a python program to compute the electricity bill for a household. \n",
    "# The per-unit charges in rupees are as follows: For the first 100 units, the user will be charged Rs. 4.5 per  unit, for the next 100 units, the user will be charged Rs. 6 per unit, and for the next 100 units, the user will  be charged Rs. 10 per unit, After 300 units and above the user will be charged Rs. 20 per unit. \n",
    "# You are required to take the units of electricity consumed in a month from the user as input. \n",
    "# Your program must pass this test case: when the unit of electricity consumed by the user in a month is  310, the total electricity bill should be 2250. \n",
    "\n",
    "# Ans\n",
    "unit=int(input(\" Enter the unit of electricity consumed by a month =\"))\n",
    "if unit>0 and unit<=100:\n",
    "    cost=4.5*unit\n",
    "    print(\"cost\",cost)\n",
    "elif unit>100 and unit<=200:\n",
    "    cost=6*unit\n",
    "    print(\"cost\",c)\n",
    "elif unit>200 and unit<=300:\n",
    "    cost=10*unit\n",
    "    print(\"cost\",cost)\n",
    "else:\n",
    "    cost=20*unit\n",
    "    print(\"cost\",cst)"
   ]
  },
  {
   "cell_type": "code",
   "execution_count": 15,
   "id": "d8b37c0c-4b55-4d62-b7f3-86c668a496a9",
   "metadata": {},
   "outputs": [
    {
     "data": {
      "text/plain": [
       "[0,\n",
       " 8,\n",
       " 64,\n",
       " 216,\n",
       " 512,\n",
       " 1000,\n",
       " 1728,\n",
       " 2744,\n",
       " 4096,\n",
       " 5832,\n",
       " 8000,\n",
       " 10648,\n",
       " 13824,\n",
       " 17576,\n",
       " 21952,\n",
       " 27000,\n",
       " 32768,\n",
       " 39304,\n",
       " 46656,\n",
       " 54872,\n",
       " 64000,\n",
       " 74088,\n",
       " 85184,\n",
       " 97336,\n",
       " 110592,\n",
       " 125000,\n",
       " 140608,\n",
       " 157464,\n",
       " 175616,\n",
       " 195112,\n",
       " 216000,\n",
       " 238328,\n",
       " 262144,\n",
       " 287496,\n",
       " 314432,\n",
       " 343000,\n",
       " 373248,\n",
       " 405224,\n",
       " 438976,\n",
       " 474552,\n",
       " 512000,\n",
       " 551368,\n",
       " 592704,\n",
       " 636056,\n",
       " 681472,\n",
       " 729000,\n",
       " 778688,\n",
       " 830584,\n",
       " 884736,\n",
       " 941192]"
      ]
     },
     "execution_count": 15,
     "metadata": {},
     "output_type": "execute_result"
    }
   ],
   "source": [
    "# Q4. Create a list of numbers from 1 to 100. Use for loop and while loop to calculate the cube of each  number and if the cube of that number is divisible by 4 or 5 then append that number in a list and print  that list. \n",
    "lst=[]\n",
    "for i in range(0,100):\n",
    "    cube=i**3\n",
    "    if cube%4 ==0 and cube%4==0:\n",
    "        lst.append(cube)\n",
    "lst         "
   ]
  },
  {
   "cell_type": "code",
   "execution_count": 16,
   "id": "9ba9c120-1389-4438-900f-1531bdca9a83",
   "metadata": {},
   "outputs": [
    {
     "name": "stdout",
     "output_type": "stream",
     "text": [
      "i\n",
      "a\n",
      "o\n",
      "e\n",
      "o\n",
      "e\n",
      "a\n",
      "a\n",
      "a\n",
      "i\n",
      "e\n",
      "i\n"
     ]
    }
   ],
   "source": [
    "# Q5.  Write a program to filter count vowels in the below-given string. \n",
    "# string = \"I want to become a data scientist\" \n",
    "string = \"i want to become a data scientist\"\n",
    "for i in string:\n",
    "    vowels=['a','e','i','o','u']\n",
    "    for j in vowels:\n",
    "        if i == j:\n",
    "            print(i)\n"
   ]
  },
  {
   "cell_type": "code",
   "execution_count": null,
   "id": "eed6d117-9d68-4444-b2e6-51a14258b516",
   "metadata": {},
   "outputs": [],
   "source": []
  }
 ],
 "metadata": {
  "kernelspec": {
   "display_name": "Python 3 (ipykernel)",
   "language": "python",
   "name": "python3"
  },
  "language_info": {
   "codemirror_mode": {
    "name": "ipython",
    "version": 3
   },
   "file_extension": ".py",
   "mimetype": "text/x-python",
   "name": "python",
   "nbconvert_exporter": "python",
   "pygments_lexer": "ipython3",
   "version": "3.10.8"
  }
 },
 "nbformat": 4,
 "nbformat_minor": 5
}
