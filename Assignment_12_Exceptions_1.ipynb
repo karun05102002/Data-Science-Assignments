{
 "cells": [
  {
   "cell_type": "code",
   "execution_count": null,
   "id": "85fda473",
   "metadata": {},
   "outputs": [],
   "source": [
    "Q1. What is an Exception in python? Write the difference between exceptions and syntax errors.\n"
   ]
  },
  {
   "cell_type": "code",
   "execution_count": 3,
   "id": "dc20f8eb",
   "metadata": {},
   "outputs": [],
   "source": [
    "# Ans\n",
    "# An Exception is an error that happens during the execution of a program.\n",
    "# Whenever there is an error, Python generates an exception that could be handled. \n",
    "# It basically prevents the program from getting crashed\n",
    "\n",
    "# Errors are the problems in a program due to which the program will stop the execution. \n",
    "# On the other hand, exceptions are raised when some internal events occur which changes the normal flow of the program. \n",
    "\n",
    "# Two types of Error occurs in python. \n",
    " \n",
    "# 1.Syntax errors\n",
    "# 2.Logical errors (Exceptions) "
   ]
  },
  {
   "cell_type": "code",
   "execution_count": null,
   "id": "486f45fe",
   "metadata": {},
   "outputs": [],
   "source": [
    "Q2. What happens when an exception is not handled? Explain with an example.\n"
   ]
  },
  {
   "cell_type": "code",
   "execution_count": 5,
   "id": "c8ff6bd1",
   "metadata": {},
   "outputs": [
    {
     "ename": "FileNotFoundError",
     "evalue": "[Errno 2] No such file or directory: 'test8.text'",
     "output_type": "error",
     "traceback": [
      "\u001b[1;31m---------------------------------------------------------------------------\u001b[0m",
      "\u001b[1;31mFileNotFoundError\u001b[0m                         Traceback (most recent call last)",
      "\u001b[1;32m~\\AppData\\Local\\Temp\\ipykernel_21172\\3872513280.py\u001b[0m in \u001b[0;36m<module>\u001b[1;34m\u001b[0m\n\u001b[0;32m      2\u001b[0m \u001b[1;31m# if we dont handle the exceptions, our program stop runing forward until we do not solved this error\u001b[0m\u001b[1;33m\u001b[0m\u001b[1;33m\u001b[0m\u001b[0m\n\u001b[0;32m      3\u001b[0m \u001b[1;33m\u001b[0m\u001b[0m\n\u001b[1;32m----> 4\u001b[1;33m \u001b[0mf\u001b[0m \u001b[1;33m=\u001b[0m\u001b[0mopen\u001b[0m\u001b[1;33m(\u001b[0m\u001b[1;34m\"test8.text\"\u001b[0m\u001b[1;33m,\u001b[0m\u001b[1;34m'r'\u001b[0m\u001b[1;33m)\u001b[0m\u001b[1;33m\u001b[0m\u001b[1;33m\u001b[0m\u001b[0m\n\u001b[0m\u001b[0;32m      5\u001b[0m \u001b[0mprint\u001b[0m\u001b[1;33m(\u001b[0m\u001b[1;34m\"this is my print\"\u001b[0m\u001b[1;33m)\u001b[0m\u001b[1;33m\u001b[0m\u001b[1;33m\u001b[0m\u001b[0m\n",
      "\u001b[1;31mFileNotFoundError\u001b[0m: [Errno 2] No such file or directory: 'test8.text'"
     ]
    }
   ],
   "source": [
    "# Ans\n",
    "# if we dont handle the exceptions, our program stop runing forward until we do not solved this error\n",
    "\n",
    "f =open(\"test8.text\",'r')\n",
    "print(\"this is my print\")"
   ]
  },
  {
   "cell_type": "code",
   "execution_count": null,
   "id": "b0b7b965",
   "metadata": {},
   "outputs": [],
   "source": [
    "Q3.Which python statement are used to catch ans handle exceptions? explain wuth an example.\n"
   ]
  },
  {
   "cell_type": "code",
   "execution_count": null,
   "id": "6f3c1d21",
   "metadata": {},
   "outputs": [],
   "source": [
    "# Ans\n",
    "# The try and except block in Python is used to catch and handle exceptions.\n",
    "# Python executes code following the try statement as a “normal” part of the program. The code that follows the except statement is the program's response to any exceptions in the preceding try clause."
   ]
  },
  {
   "cell_type": "code",
   "execution_count": null,
   "id": "f9968fdd",
   "metadata": {},
   "outputs": [],
   "source": [
    "q4.Explain with an example:\n",
    "    a. try and else\n",
    "    b. finally\n",
    "    c. raise"
   ]
  },
  {
   "cell_type": "code",
   "execution_count": 7,
   "id": "fc75be07",
   "metadata": {},
   "outputs": [],
   "source": [
    "# a. try and else\n",
    "import logging\n",
    "logging.basicConfig(filename = \"test5.log\" , level = logging.DEBUG , format = '%(asctime)s %(name)s %(levelname)s  %(message)s')\n",
    "\n",
    "try:\n",
    "    f =open(\"test.text\",'w')\n",
    "    f.write(\"write somthing\\n\")\n",
    "\n",
    "    \n",
    "except Exception as e:\n",
    "    logging.error(\"This is except\",e)\n",
    "else:\n",
    "    logging.info(\"completed wrote in text.text\")\n",
    "    f.close()    "
   ]
  },
  {
   "cell_type": "code",
   "execution_count": null,
   "id": "e2417155",
   "metadata": {},
   "outputs": [],
   "source": [
    "test.text - write somthing\n",
    "test5.log - 2023-02-16 15:34:18,946 root INFO  completed wrote in text.text"
   ]
  },
  {
   "cell_type": "code",
   "execution_count": 8,
   "id": "a8cf01f7",
   "metadata": {},
   "outputs": [
    {
     "name": "stdout",
     "output_type": "stream",
     "text": [
      "finally will execute itself in any situation\n"
     ]
    },
    {
     "ename": "FileNotFoundError",
     "evalue": "[Errno 2] No such file or directory: 'test10.txt'",
     "output_type": "error",
     "traceback": [
      "\u001b[1;31m---------------------------------------------------------------------------\u001b[0m",
      "\u001b[1;31mFileNotFoundError\u001b[0m                         Traceback (most recent call last)",
      "\u001b[1;32m~\\AppData\\Local\\Temp\\ipykernel_21172\\2169784775.py\u001b[0m in \u001b[0;36m<module>\u001b[1;34m\u001b[0m\n\u001b[0;32m      1\u001b[0m \u001b[1;31m# b. finally\u001b[0m\u001b[1;33m\u001b[0m\u001b[1;33m\u001b[0m\u001b[0m\n\u001b[0;32m      2\u001b[0m \u001b[1;32mtry\u001b[0m \u001b[1;33m:\u001b[0m\u001b[1;33m\u001b[0m\u001b[1;33m\u001b[0m\u001b[0m\n\u001b[1;32m----> 3\u001b[1;33m     \u001b[0mf\u001b[0m \u001b[1;33m=\u001b[0m \u001b[0mopen\u001b[0m\u001b[1;33m(\u001b[0m\u001b[1;34m\"test10.txt\"\u001b[0m \u001b[1;33m,\u001b[0m \u001b[1;34m'r'\u001b[0m\u001b[1;33m)\u001b[0m\u001b[1;33m\u001b[0m\u001b[1;33m\u001b[0m\u001b[0m\n\u001b[0m\u001b[0;32m      4\u001b[0m     \u001b[0mf\u001b[0m\u001b[1;33m.\u001b[0m\u001b[0mwrite\u001b[0m\u001b[1;33m(\u001b[0m\u001b[1;34m\"write something\"\u001b[0m \u001b[1;33m)\u001b[0m\u001b[1;33m\u001b[0m\u001b[1;33m\u001b[0m\u001b[0m\n\u001b[0;32m      5\u001b[0m \u001b[1;32mfinally\u001b[0m \u001b[1;33m:\u001b[0m\u001b[1;33m\u001b[0m\u001b[1;33m\u001b[0m\u001b[0m\n",
      "\u001b[1;31mFileNotFoundError\u001b[0m: [Errno 2] No such file or directory: 'test10.txt'"
     ]
    }
   ],
   "source": [
    "# b. finally\n",
    "try :\n",
    "    f = open(\"test10.txt\" , 'r')\n",
    "    f.write(\"write something\" )\n",
    "finally : \n",
    "    print(\"finally will execute itself in any situation\")"
   ]
  },
  {
   "cell_type": "code",
   "execution_count": 9,
   "id": "90ee5e43",
   "metadata": {},
   "outputs": [
    {
     "name": "stdout",
     "output_type": "stream",
     "text": [
      "Enter your age23\n"
     ]
    }
   ],
   "source": [
    "# c. raise\n",
    "import logging\n",
    "logging.basicConfig(filename = \"test5.log\" , level = logging.DEBUG , format = '%(asctime)s %(name)s %(levelname)s  %(message)s')\n",
    "\n",
    "class validateage(Exception):\n",
    "    def __init__(self,msg):\n",
    "        self.msg=msg\n",
    "def validaetage(age):\n",
    "    if age<0:\n",
    "        raise validateage(\"enterer age is negateive\")\n",
    "    elif age>200:\n",
    "        raise validateage(\"enetr age is very very high \")\n",
    "    else:\n",
    "        logging.info(\"age is valid\")\n",
    "try:\n",
    "    age=int(input(\"Enter your age\"))\n",
    "    validaetage(age)\n",
    "except validateage as e:\n",
    "    logging.info(e)\n",
    "        "
   ]
  },
  {
   "cell_type": "code",
   "execution_count": null,
   "id": "d5f51d3f",
   "metadata": {},
   "outputs": [],
   "source": [
    "test5.log - 2023-02-16 15:42:53,817 root INFO  age is valid"
   ]
  },
  {
   "cell_type": "code",
   "execution_count": null,
   "id": "389ba869",
   "metadata": {},
   "outputs": [],
   "source": [
    "Q5.What are custom Exceptions in python? Why do we need custom Exceptions?Expalin with a example.\n"
   ]
  },
  {
   "cell_type": "code",
   "execution_count": 10,
   "id": "29c1bc93",
   "metadata": {},
   "outputs": [
    {
     "name": "stdout",
     "output_type": "stream",
     "text": [
      "Enter your age-43\n"
     ]
    }
   ],
   "source": [
    "# Ans\n",
    "# We can define custom exceptions by creating a new class that is derived from the built-in Exception class.\n",
    "\n",
    "# Custom exceptions can be used to add clear, meaningful, and user-friendly information to exceptions when errors occur while your program is running.\n",
    "# The base class for all exceptions in . Net is Exception .\n",
    "# All of the classes in the exception hierarchy derive directly or indirectly from this class.\n",
    "\n",
    "import logging\n",
    "logging.basicConfig(filename = \"test5.log\" , level = logging.DEBUG , format = '%(asctime)s %(name)s %(levelname)s  %(message)s')\n",
    "\n",
    "class validateage(Exception):\n",
    "    def __init__(self,msg):\n",
    "        self.msg=msg\n",
    "def validaetage(age):\n",
    "    if age<0:\n",
    "        raise validateage(\"entere age is negateive\")\n",
    "    elif age>200:\n",
    "        raise validateage(\"enetr age is very very high \")\n",
    "    else:\n",
    "        logging.info(\"age is valid\")\n",
    "try:\n",
    "    age=int(input(\"Enter your age\"))\n",
    "    validaetage(age)\n",
    "except validateage as e:\n",
    "    logging.info(e)"
   ]
  },
  {
   "cell_type": "code",
   "execution_count": null,
   "id": "c36503c6",
   "metadata": {},
   "outputs": [],
   "source": [
    "test5.log - 2023-02-16 15:49:45,607 root INFO  enter age is negateive"
   ]
  },
  {
   "cell_type": "code",
   "execution_count": null,
   "id": "920d5798",
   "metadata": {},
   "outputs": [],
   "source": [
    "Q-6.Create a custom exception class. Use this to handle an  Exception."
   ]
  },
  {
   "cell_type": "code",
   "execution_count": 11,
   "id": "fa2deeb0",
   "metadata": {},
   "outputs": [
    {
     "name": "stdout",
     "output_type": "stream",
     "text": [
      "Enter your age456\n"
     ]
    }
   ],
   "source": [
    "class validateage(Exception):\n",
    "    def __init__(self,msg):\n",
    "        self.msg=msg\n",
    "def validaetage(age):\n",
    "    if age<0:\n",
    "        raise validateage(\"entere age is negateive\")\n",
    "    elif age>200:\n",
    "        raise validateage(\"enetr age is very very high \")\n",
    "    else:\n",
    "        logging.info(\"age is valid\")\n",
    "try:\n",
    "    age=int(input(\"Enter your age\"))\n",
    "    validaetage(age)\n",
    "except validateage as e:\n",
    "    logging.info(e)"
   ]
  },
  {
   "cell_type": "code",
   "execution_count": null,
   "id": "a8d5de86",
   "metadata": {},
   "outputs": [],
   "source": [
    "text5.log - 2023-02-16 15:53:58,216 root INFO  enetr age is very very high "
   ]
  }
 ],
 "metadata": {
  "kernelspec": {
   "display_name": "Python 3 (ipykernel)",
   "language": "python",
   "name": "python3"
  },
  "language_info": {
   "codemirror_mode": {
    "name": "ipython",
    "version": 3
   },
   "file_extension": ".py",
   "mimetype": "text/x-python",
   "name": "python",
   "nbconvert_exporter": "python",
   "pygments_lexer": "ipython3",
   "version": "3.9.13"
  }
 },
 "nbformat": 4,
 "nbformat_minor": 5
}
