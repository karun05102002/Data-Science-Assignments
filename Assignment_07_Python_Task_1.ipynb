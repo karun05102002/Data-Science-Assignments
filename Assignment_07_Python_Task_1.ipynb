{
 "cells": [
  {
   "cell_type": "code",
   "execution_count": null,
   "id": "b6a4e0d2-c6de-4d37-84cb-9036bb68cd54",
   "metadata": {},
   "outputs": [],
   "source": [
    "# Q1. Create a function which will take a list as an argument and return the product of all the numbers\n",
    "#     after creating a flat list.\n",
    "#     Use the below-given list as an argument for your function.\n",
    "\n",
    "#     list1 = [1,2,3,4, [44,55,66, True], False, (34,56,78,89,34), {1,2,3,3,2,1}, {1:34, \"key2\": [55, 67, 78, 89], 4: (45,\n",
    "#     22, 61, 34)}, [56, 'data science'], 'Machine Learning']\n",
    "\n",
    "#     Note: you must extract numeric keys and values of the dictionary also.\n"
   ]
  },
  {
   "cell_type": "code",
   "execution_count": 11,
   "id": "d7bf3339-015d-4468-89e8-b95038d9b37e",
   "metadata": {},
   "outputs": [
    {
     "data": {
      "text/plain": [
       "4134711838987085478833841242112000"
      ]
     },
     "execution_count": 11,
     "metadata": {},
     "output_type": "execute_result"
    }
   ],
   "source": [
    "# Ans\n",
    "from functools import  reduce\n",
    "lst = [1,2,3,4, [44,55,66, True], False, (34,56,78,89,34), {1,2,3,3,2,1}, {1:34, \"key2\": [55, 67, 78, 89], 4: (45,22, 61, 34)}, [56, 'data science'], 'Machine Learning']\n",
    "def product(lst):\n",
    "    l=[]\n",
    "    for i in lst:\n",
    "        if type(i)==list:\n",
    "            for j in i:\n",
    "                if type(j)==int:\n",
    "                    l.append(j)\n",
    "        elif type(i)==tuple:\n",
    "            for j in i:\n",
    "                if type(j)==int:\n",
    "                    l.append(j)\n",
    "        elif type(i)==set:\n",
    "            for j in i:\n",
    "                if type(j)==int:\n",
    "                    l.append(j)\n",
    "        elif type(i)==dict:\n",
    "            a=i.keys()\n",
    "            b=i.values()\n",
    "            for i in a:\n",
    "                if type(i)==list:\n",
    "                    for j in i:\n",
    "                        if type(j)==int:\n",
    "                            l.append(j)\n",
    "                elif type(i)==tuple:\n",
    "                    for j in i:\n",
    "                        if type(j)==int:\n",
    "                            l.append(j)\n",
    "                elif type(i)==set:\n",
    "                    for j in i:\n",
    "                        if type(j)==int:\n",
    "                            l.append(j)\n",
    "            # elif type(i)==True or type(i) == False:\n",
    "            #     l.append(j)\n",
    "        \n",
    "                else:\n",
    "                    if type(i) ==int:\n",
    "                        l.append(i)            \n",
    "            for i in b:\n",
    "                if type(i)==list:\n",
    "                    for j in i:\n",
    "                        if type(j)==int:\n",
    "                            l.append(j)\n",
    "                elif type(i)==tuple:\n",
    "                    for j in i:\n",
    "                        if type(j)==int:\n",
    "                            l.append(j)\n",
    "                elif type(i)==set:\n",
    "                    for j in i:\n",
    "                        if type(j)==int:\n",
    "                            l.append(j) \n",
    "#             elif type(i)==True or type(i) == False:\n",
    "#                 l.append(j)\n",
    "        \n",
    "                else:\n",
    "                    if type(i) ==int:\n",
    "                        l.append(i)           \n",
    "               \n",
    "        \n",
    "        elif type(i)==True or type(i) == False:\n",
    "            l.append(j)\n",
    "        \n",
    "        else:\n",
    "            if type(i) ==int:\n",
    "                l.append(i)\n",
    "    \n",
    "    \n",
    "    \n",
    "    \n",
    "    return  reduce(lambda x ,y : x*y , l)            \n",
    "product(lst) \n"
   ]
  },
  {
   "cell_type": "code",
   "execution_count": 14,
   "id": "93b97b7a-4fcb-4768-a178-de346386de67",
   "metadata": {},
   "outputs": [
    {
     "data": {
      "text/plain": [
       "'I$wznt$to$zexome$z$Dztz$Sxientist.'"
      ]
     },
     "execution_count": 14,
     "metadata": {},
     "output_type": "execute_result"
    }
   ],
   "source": [
    "# Q2. Write a python program for encrypting a message sent to you by your friend. The logic of encryption\n",
    "# should be such that, for a the output should be z. For b, the output should be y. For c, the output should\n",
    "# be x respectively. Also, the whitespace should be replaced with a dollar sign. Keep the punctuation\n",
    "# marks unchanged.\n",
    "\n",
    "# Input Sentence: I want to become a Data Scientist.\n",
    "\n",
    "# Encrypt the above input sentence using the program you just created.\n",
    "\n",
    "# Note: Convert the given input sentence into lowercase before encrypting. The final output should be\n",
    "# lowercase.\n",
    "from functools import reduce\n",
    "n='I want to become a Data Scientist.'\n",
    "n=list(n)\n",
    "\n",
    "for i in range(len(n)):\n",
    "    if n[i]== 'a':\n",
    "        n[i]= 'z'\n",
    "    elif n[i]=='b':\n",
    "        n[i]='z'\n",
    "    elif n[i]=='c':\n",
    "        n[i]='x'\n",
    "    else:\n",
    "        if n[i]==' ':\n",
    "            n[i]='$'\n",
    "listToStr = reduce(lambda a, b : a +str(b), n)\n",
    "listToStr"
   ]
  },
  {
   "cell_type": "code",
   "execution_count": null,
   "id": "598ac138-9d9c-4eb5-89de-70eaae8ca7fe",
   "metadata": {},
   "outputs": [],
   "source": []
  }
 ],
 "metadata": {
  "kernelspec": {
   "display_name": "Python 3 (ipykernel)",
   "language": "python",
   "name": "python3"
  },
  "language_info": {
   "codemirror_mode": {
    "name": "ipython",
    "version": 3
   },
   "file_extension": ".py",
   "mimetype": "text/x-python",
   "name": "python",
   "nbconvert_exporter": "python",
   "pygments_lexer": "ipython3",
   "version": "3.10.8"
  }
 },
 "nbformat": 4,
 "nbformat_minor": 5
}
