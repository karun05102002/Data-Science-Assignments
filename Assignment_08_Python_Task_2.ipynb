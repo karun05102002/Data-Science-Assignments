{
 "cells": [
  {
   "cell_type": "code",
   "execution_count": null,
   "id": "8df22415-67ba-4336-a11b-528423ebdc70",
   "metadata": {},
   "outputs": [],
   "source": [
    "Q1 You are writing code for a company. The requirement of the company is that you create a python\n",
    "function that will check whether the password entered by the user is correct or not. The function should\n",
    "take the password as input and return the string “Valid Password” if the entered password follows the\n",
    "below-given password guidelines else it should return “Invalid Password”.\n",
    "Note: 1. The Password should contain at least two uppercase letters and at least two lowercase letters.\n",
    "2. The Password should contain at least a number and three special characters.\n",
    "3. The length of the password should be 10 characters long."
   ]
  },
  {
   "cell_type": "code",
   "execution_count": 77,
   "id": "f250123e-e1c7-4a87-86d8-d98d692ff3fa",
   "metadata": {},
   "outputs": [
    {
     "name": "stdin",
     "output_type": "stream",
     "text": [
      "Enter password\n",
      " ASS#$#34aa\n"
     ]
    },
    {
     "name": "stdout",
     "output_type": "stream",
     "text": [
      "Valid password\n"
     ]
    }
   ],
   "source": [
    "a=input(\"Enter password\\n\")\n",
    "l1=[]\n",
    "l2=[]\n",
    "l3=[]\n",
    "l4=[]\n",
    "for i in a:\n",
    "    if i>='0' and i<='9':\n",
    "        l1.append(i)    \n",
    "    elif i.isupper():\n",
    "        l2.append(i)\n",
    "    elif i.islower():\n",
    "        l3.append(i)\n",
    "    else:\n",
    "        b='!\"#$%&()*+,-./:;<=>?@[\\]^_`{|}~'\n",
    "        for c in b:\n",
    "            if i==c:\n",
    "                l4.append(i)\n",
    "if  len(l1)>=1 and len(l2)>=2 and len(l3)>=2 and len(l4)>=3 and len(l1)+len(l2)+len(l3)+len(l4)<=10:\n",
    "    print(\"Valid password\")\n",
    "else:\n",
    "    print(\"Invalid  password1\")\n"
   ]
  },
  {
   "cell_type": "code",
   "execution_count": null,
   "id": "94b940e4-b38e-45c4-9190-481fd20203ef",
   "metadata": {},
   "outputs": [],
   "source": [
    "Q2. Solve the below-given questions using at least one of the following:\n",
    "1. Lambda functioJ\n",
    "2. Filter functioJ\n",
    "3. Zap functioJ\n",
    "4. List Comprehension\n",
    "B Check if the string starts with a particular letter.\n",
    "B Check if the string is numeric.\n",
    "B Sort a list of tuples having fruit names and their quantity. [(\"mango\",99),(\"orange\",80), (\"grapes\", 1000)-\n",
    "B Find the squares of numbers from 1 to 10.\n",
    "B Find the cube root of numbers from 1 to 10.\n",
    "B Check if a given number is even.\n",
    "B Filter odd numbers from the given list.\n",
    "[1,2,3,4,5,6,7,8,9,10-\n",
    "B Sort a list of integers into positive and negative integers lists.\n",
    "[1,2,3,4,5,6,-1,-2,-3,-4,-5,0]"
   ]
  },
  {
   "cell_type": "code",
   "execution_count": 93,
   "id": "a73aa4de-2ec3-47f4-b758-58aee835f8f0",
   "metadata": {},
   "outputs": [
    {
     "data": {
      "text/plain": [
       "True"
      ]
     },
     "execution_count": 93,
     "metadata": {},
     "output_type": "execute_result"
    }
   ],
   "source": [
    "# B Check if the string starts with a particular letterY\n",
    "a=\"karun33\"\n",
    "a.startswith(\"k\")"
   ]
  },
  {
   "cell_type": "code",
   "execution_count": 97,
   "id": "905e4ba2-9358-4af8-a933-2a2549f4b2d3",
   "metadata": {},
   "outputs": [
    {
     "data": {
      "text/plain": [
       "True"
      ]
     },
     "execution_count": 97,
     "metadata": {},
     "output_type": "execute_result"
    }
   ],
   "source": [
    "# B Check if the string is numericY\n",
    "a=\"565\"\n",
    "a.isdigit()"
   ]
  },
  {
   "cell_type": "code",
   "execution_count": 111,
   "id": "514237aa-9199-4d73-bb8a-606bbc563ede",
   "metadata": {},
   "outputs": [],
   "source": [
    "# # B Sort a list of tuples having fruit names and their quantity. [(\"mango\",99),(\"orange\",80), (\"grapes\", 1000)-\n",
    "\n",
    "# lst=[(\"mango\",99),(\"orange\",80),(\"grapes\",1000)]\n",
    "# x=[]\n",
    "# for i in lst:\n",
    "#     for j in i:\n",
    "#         if type(j)=int:\n",
    "#             x.append(i)\n",
    "            \n"
   ]
  },
  {
   "cell_type": "code",
   "execution_count": 114,
   "id": "8cf36a4c-d01a-4d8e-b543-742b7a0d4a40",
   "metadata": {},
   "outputs": [
    {
     "data": {
      "text/plain": [
       "[1, 4, 9, 16, 25, 36, 49, 64, 81]"
      ]
     },
     "execution_count": 114,
     "metadata": {},
     "output_type": "execute_result"
    }
   ],
   "source": [
    "# B Find the squares of numbers from 1 to 10.\n",
    "l=[1,2,3,4,5,6,7,8,9]\n",
    "list(map(lambda x : x**2 , l))"
   ]
  },
  {
   "cell_type": "code",
   "execution_count": 115,
   "id": "c75de25f-6fd0-42e6-ba27-1d22401938b3",
   "metadata": {},
   "outputs": [
    {
     "name": "stdout",
     "output_type": "stream",
     "text": [
      "[1.0, 1.2599210498948732, 1.4422495703074083, 1.5874010519681994, 1.7099759466766968, 1.8171205928321397, 1.912931182772389, 2.0, 2.080083823051904]\n"
     ]
    }
   ],
   "source": [
    "# B Find the cube root of numbers from 1 to 10.\n",
    "l=[1,2,3,4,5,6,7,8,9]\n",
    "print(list(map(lambda x : x**(1/3) , l)))\n",
    "# s = [23]\n",
    "# a=list(map(lambda s : s%2==0 , s))    \n",
    "# print(a)\n",
    "# l = [1,2,3,4,5,6,6,7,8,9,10]\n",
    "# print(list(filter(lambda x : x % 2 == 0 , l)))"
   ]
  },
  {
   "cell_type": "code",
   "execution_count": 117,
   "id": "873e9b7d-0fd7-4dcf-8204-865d8de8af03",
   "metadata": {},
   "outputs": [
    {
     "data": {
      "text/plain": [
       "[False]"
      ]
     },
     "execution_count": 117,
     "metadata": {},
     "output_type": "execute_result"
    }
   ],
   "source": [
    "# B Check if a given number is even.\n",
    "s = [23]\n",
    "list(map(lambda s : s%2==0 , s))    "
   ]
  },
  {
   "cell_type": "code",
   "execution_count": 121,
   "id": "d859e142-b3cf-4ad8-ad6e-1ff3caba7aca",
   "metadata": {},
   "outputs": [
    {
     "data": {
      "text/plain": [
       "[2, 4, 6, 6, 8, 10]"
      ]
     },
     "execution_count": 121,
     "metadata": {},
     "output_type": "execute_result"
    }
   ],
   "source": [
    "# B Filter odd numbers from the given list.\n",
    "l = [1,2,3,4,5,6,6,7,8,9,10]\n",
    "(list(filter(lambda x : x % 2 == 0 , l)))"
   ]
  },
  {
   "cell_type": "code",
   "execution_count": 130,
   "id": "0ff1eeb7-47b9-4145-9d6e-74dd2450900d",
   "metadata": {},
   "outputs": [
    {
     "name": "stdout",
     "output_type": "stream",
     "text": [
      "[1, 2, 3, 4, 5, 6, 0]\n"
     ]
    },
    {
     "data": {
      "text/plain": [
       "[-1, -2, -3, -4, -5, 0]"
      ]
     },
     "execution_count": 130,
     "metadata": {},
     "output_type": "execute_result"
    }
   ],
   "source": [
    "# B Sort a list of integers into positive and negative integers lists.\n",
    "b=[1,2,3,4,5,6,-1,-2,-3,-4,-5,0]\n",
    "print(list(filter(lambda x: x>=-0, b)))\n",
    "list((filter(lambda x: x<=0, b)))\n"
   ]
  },
  {
   "cell_type": "code",
   "execution_count": null,
   "id": "c4975d2e-9fba-43f5-bec3-6c39ad32ca60",
   "metadata": {},
   "outputs": [],
   "source": []
  }
 ],
 "metadata": {
  "kernelspec": {
   "display_name": "Python 3 (ipykernel)",
   "language": "python",
   "name": "python3"
  },
  "language_info": {
   "codemirror_mode": {
    "name": "ipython",
    "version": 3
   },
   "file_extension": ".py",
   "mimetype": "text/x-python",
   "name": "python",
   "nbconvert_exporter": "python",
   "pygments_lexer": "ipython3",
   "version": "3.10.8"
  }
 },
 "nbformat": 4,
 "nbformat_minor": 5
}
