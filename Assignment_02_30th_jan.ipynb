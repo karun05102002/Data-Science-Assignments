{
 "cells": [
  {
   "cell_type": "code",
   "execution_count": 11,
   "id": "98a847cf-5daa-4ec6-87ab-a2994be3e703",
   "metadata": {},
   "outputs": [
    {
     "name": "stdin",
     "output_type": "stream",
     "text": [
      "Enter marks 78\n"
     ]
    },
    {
     "name": "stdout",
     "output_type": "stream",
     "text": [
      "grade C\n"
     ]
    }
   ],
   "source": [
    "# ANSWER 1\n",
    "marks=int(input(\"Enter marks \\n\"))\n",
    "if marks >90:\n",
    "    print(\" grade A\")\n",
    "elif marks>80 and marks<=90:\n",
    "    print(\"grade B\")\n",
    "elif marks>=60 and marks<=80:\n",
    "    print(\"grade C\")\n",
    "elif marks<60 and marks>=30:\n",
    "    print(\"grade D\")\n",
    "elif marks<30 and marks>=0:\n",
    "    print('''grade E Fail''') \n",
    "else:\n",
    "    print(\"please enter the valid marks\")\n"
   ]
  },
  {
   "cell_type": "code",
   "execution_count": 15,
   "id": "5d3f6e81-b22c-41cc-b52b-190fbe0ed894",
   "metadata": {},
   "outputs": [
    {
     "name": "stdin",
     "output_type": "stream",
     "text": [
      "Enter the cost price of a bike and get how much tax you will pay for bike\n",
      " 3434\n"
     ]
    },
    {
     "name": "stdout",
     "output_type": "stream",
     "text": [
      "5%\n"
     ]
    }
   ],
   "source": [
    "# ANSWER 2\n",
    "cost=int(input(\"Enter the cost price of a bike and get how much tax you will pay for bike\\n\"))\n",
    "if cost > 100000:\n",
    "    print(\"15% Tax\")\n",
    "elif cost >50000 and cost<=100000:\n",
    "    print(\"10% Tax\")    \n",
    "elif cost <50000 and cost>0:\n",
    "    print(\"5%\")\n",
    "else:\n",
    "    print(\"Enter valid cost price of bike\")"
   ]
  },
  {
   "cell_type": "code",
   "execution_count": 19,
   "id": "e0eb99bf-4a22-4dff-bc62-1a32e46aaff5",
   "metadata": {},
   "outputs": [
    {
     "name": "stdin",
     "output_type": "stream",
     "text": [
      "Enter the city then get the monument of that city\n",
      "  delhi\n"
     ]
    },
    {
     "name": "stdout",
     "output_type": "stream",
     "text": [
      "RedFort\n"
     ]
    }
   ],
   "source": [
    "# Ans3 \n",
    "city=input(\"Enter the city then get the monument of that city\\n \")\n",
    "if city == \"Delhi\" or city == \"delhi\":\n",
    "    print(\"RedFort\")\n",
    "elif city == \"Agra\" or city == \"agra\":\n",
    "    print(\"Taj Mahal\"or city ==\"taj mahal\")\n",
    "elif city == \"Jaipur\" or city ==\"jaipur\":\n",
    "    print(\"jal Mahal\")\n",
    "else:\n",
    "    print('invalid input')\n",
    "    "
   ]
  },
  {
   "cell_type": "code",
   "execution_count": null,
   "id": "8743733c-bb7c-4c42-93aa-6dfe2b84fbc4",
   "metadata": {},
   "outputs": [],
   "source": [
    "# 5. Why and When to Use while Loop in Python give a detailed description with example \n",
    "# Ans\n",
    "\n",
    "A \"While\" Loop is used to repeat a specific block of code an unknown number of times, until a condition is met. \n",
    "For example, if we want to ask a user for a number between 1 and 10, \n",
    "we don't know how many times the user may enter a larger number,\n",
    "so we keep asking \"while the number is not between 1 and 10\"."
   ]
  },
  {
   "cell_type": "code",
   "execution_count": 1,
   "id": "35822608-518e-40f0-8460-7b9e4fb30532",
   "metadata": {},
   "outputs": [
    {
     "name": "stdout",
     "output_type": "stream",
     "text": [
      "1 \n",
      "1 2 \n",
      "1 2 3 \n",
      "1 2 3 4 \n",
      "1 2 3 4 5 \n"
     ]
    }
   ],
   "source": [
    "# 6. Use nested while loop to print 3 different pattern. \n",
    "# Ans\n",
    "i=1\n",
    "while i<=5:\n",
    "    j=1\n",
    "    while j<=i:\n",
    "        print(j,end=\" \")\n",
    "        j=j+1\n",
    "    print(\"\")\n",
    "    i=i+1\n"
   ]
  },
  {
   "cell_type": "code",
   "execution_count": null,
   "id": "1b5af547-1f0d-4283-ab6b-bec5cf90f2c8",
   "metadata": {},
   "outputs": [],
   "source": [
    "i=5\n",
    "while i>=1:\n",
    "    j=1\n",
    "    while j<=5:\n",
    "        print(\"*\",end=\" \")\n",
    "        j=j+1\n",
    "    print(\"\")\n",
    "    i=i-1\n"
   ]
  },
  {
   "cell_type": "code",
   "execution_count": null,
   "id": "5f228604-91c7-42ef-9b86-71c086d52b15",
   "metadata": {},
   "outputs": [],
   "source": [
    "# 7. Reverse a while loop to display numbers from 10 to 1. \n",
    "i=5\n",
    "while i>=1:\n",
    "    print(i)\n",
    "    i=i+1:\n",
    "        "
   ]
  },
  {
   "cell_type": "code",
   "execution_count": null,
   "id": "8cfd3a6d-c157-4db9-82a5-244dff79b009",
   "metadata": {},
   "outputs": [],
   "source": []
  }
 ],
 "metadata": {
  "kernelspec": {
   "display_name": "Python 3 (ipykernel)",
   "language": "python",
   "name": "python3"
  },
  "language_info": {
   "codemirror_mode": {
    "name": "ipython",
    "version": 3
   },
   "file_extension": ".py",
   "mimetype": "text/x-python",
   "name": "python",
   "nbconvert_exporter": "python",
   "pygments_lexer": "ipython3",
   "version": "3.10.6"
  }
 },
 "nbformat": 4,
 "nbformat_minor": 5
}
